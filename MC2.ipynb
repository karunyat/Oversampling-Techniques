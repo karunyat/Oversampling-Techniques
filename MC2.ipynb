{
  "nbformat": 4,
  "nbformat_minor": 0,
  "metadata": {
    "colab": {
      "name": "MC2.ipynb",
      "provenance": [],
      "collapsed_sections": [],
      "include_colab_link": true
    },
    "kernelspec": {
      "display_name": "Python 3",
      "name": "python3"
    },
    "language_info": {
      "name": "python"
    }
  },
  "cells": [
    {
      "cell_type": "markdown",
      "metadata": {
        "id": "view-in-github",
        "colab_type": "text"
      },
      "source": [
        "<a href=\"https://colab.research.google.com/github/karunyat/Oversampling-Techniques/blob/main/MC2.ipynb\" target=\"_parent\"><img src=\"https://colab.research.google.com/assets/colab-badge.svg\" alt=\"Open In Colab\"/></a>"
      ]
    },
    {
      "cell_type": "markdown",
      "source": [
        "## NASA Imbalanced dataset - MC2"
      ],
      "metadata": {
        "id": "6Qc5mBxCN2Tj"
      }
    },
    {
      "cell_type": "code",
      "metadata": {
        "colab": {
          "background_save": true
        },
        "id": "Fc25A8nhErzr"
      },
      "source": [
        "from google.colab import drive\n",
        "drive.mount('/content/drive',force_remount=True)"
      ],
      "execution_count": null,
      "outputs": []
    },
    {
      "cell_type": "code",
      "metadata": {
        "id": "ircVrHQaFptC"
      },
      "source": [
        "import pandas as pd\n",
        "from sklearn.model_selection import GridSearchCV \n",
        "import matplotlib.pyplot as plt\n",
        "df=pd.read_csv('/content/drive/My Drive/PC2.csv')"
      ],
      "execution_count": null,
      "outputs": []
    },
    {
      "cell_type": "code",
      "metadata": {
        "colab": {
          "base_uri": "https://localhost:8080/",
          "height": 162
        },
        "id": "CBC2hhDjMAXh",
        "outputId": "2407060c-70c3-4c79-dabc-e48f58368cf1"
      },
      "source": [
        "import numpy as np\n",
        "df.head(3)"
      ],
      "execution_count": null,
      "outputs": [
        {
          "output_type": "execute_result",
          "data": {
            "text/html": [
              "<div>\n",
              "<style scoped>\n",
              "    .dataframe tbody tr th:only-of-type {\n",
              "        vertical-align: middle;\n",
              "    }\n",
              "\n",
              "    .dataframe tbody tr th {\n",
              "        vertical-align: top;\n",
              "    }\n",
              "\n",
              "    .dataframe thead th {\n",
              "        text-align: right;\n",
              "    }\n",
              "</style>\n",
              "<table border=\"1\" class=\"dataframe\">\n",
              "  <thead>\n",
              "    <tr style=\"text-align: right;\">\n",
              "      <th></th>\n",
              "      <th>BRANCH_COUNT</th>\n",
              "      <th>CALL_PAIRS</th>\n",
              "      <th>LOC_CODE_AND_COMMENT</th>\n",
              "      <th>LOC_COMMENTS</th>\n",
              "      <th>CONDITION_COUNT</th>\n",
              "      <th>CYCLOMATIC_COMPLEXITY</th>\n",
              "      <th>CYCLOMATIC_DENSITY</th>\n",
              "      <th>DECISION_COUNT</th>\n",
              "      <th>DECISION_DENSITY</th>\n",
              "      <th>DESIGN_COMPLEXITY</th>\n",
              "      <th>DESIGN_DENSITY</th>\n",
              "      <th>EDGE_COUNT</th>\n",
              "      <th>ESSENTIAL_COMPLEXITY</th>\n",
              "      <th>ESSENTIAL_DENSITY</th>\n",
              "      <th>LOC_EXECUTABLE</th>\n",
              "      <th>PARAMETER_COUNT</th>\n",
              "      <th>HALSTEAD_CONTENT</th>\n",
              "      <th>HALSTEAD_DIFFICULTY</th>\n",
              "      <th>HALSTEAD_EFFORT</th>\n",
              "      <th>HALSTEAD_ERROR_EST</th>\n",
              "      <th>HALSTEAD_LENGTH</th>\n",
              "      <th>HALSTEAD_LEVEL</th>\n",
              "      <th>HALSTEAD_PROG_TIME</th>\n",
              "      <th>HALSTEAD_VOLUME</th>\n",
              "      <th>MAINTENANCE_SEVERITY</th>\n",
              "      <th>MODIFIED_CONDITION_COUNT</th>\n",
              "      <th>MULTIPLE_CONDITION_COUNT</th>\n",
              "      <th>NODE_COUNT</th>\n",
              "      <th>NORMALIZED_CYLOMATIC_COMPLEXITY</th>\n",
              "      <th>NUM_OPERANDS</th>\n",
              "      <th>NUM_OPERATORS</th>\n",
              "      <th>NUM_UNIQUE_OPERANDS</th>\n",
              "      <th>NUM_UNIQUE_OPERATORS</th>\n",
              "      <th>NUMBER_OF_LINES</th>\n",
              "      <th>PERCENT_COMMENTS</th>\n",
              "      <th>LOC_TOTAL</th>\n",
              "      <th>Defective</th>\n",
              "    </tr>\n",
              "  </thead>\n",
              "  <tbody>\n",
              "    <tr>\n",
              "      <th>0</th>\n",
              "      <td>3</td>\n",
              "      <td>2</td>\n",
              "      <td>2</td>\n",
              "      <td>5</td>\n",
              "      <td>4</td>\n",
              "      <td>2</td>\n",
              "      <td>0.67</td>\n",
              "      <td>2</td>\n",
              "      <td>2.0</td>\n",
              "      <td>2</td>\n",
              "      <td>1.0</td>\n",
              "      <td>6</td>\n",
              "      <td>1</td>\n",
              "      <td>0</td>\n",
              "      <td>1</td>\n",
              "      <td>0</td>\n",
              "      <td>9.00</td>\n",
              "      <td>3.00</td>\n",
              "      <td>81.00</td>\n",
              "      <td>0.01</td>\n",
              "      <td>9</td>\n",
              "      <td>0.33</td>\n",
              "      <td>4.50</td>\n",
              "      <td>27.00</td>\n",
              "      <td>0.50</td>\n",
              "      <td>1</td>\n",
              "      <td>2</td>\n",
              "      <td>6</td>\n",
              "      <td>0.20</td>\n",
              "      <td>2</td>\n",
              "      <td>7</td>\n",
              "      <td>2</td>\n",
              "      <td>6</td>\n",
              "      <td>10</td>\n",
              "      <td>87.50</td>\n",
              "      <td>3</td>\n",
              "      <td>N</td>\n",
              "    </tr>\n",
              "    <tr>\n",
              "      <th>1</th>\n",
              "      <td>3</td>\n",
              "      <td>1</td>\n",
              "      <td>0</td>\n",
              "      <td>0</td>\n",
              "      <td>4</td>\n",
              "      <td>2</td>\n",
              "      <td>1.00</td>\n",
              "      <td>2</td>\n",
              "      <td>2.0</td>\n",
              "      <td>2</td>\n",
              "      <td>1.0</td>\n",
              "      <td>5</td>\n",
              "      <td>1</td>\n",
              "      <td>0</td>\n",
              "      <td>0</td>\n",
              "      <td>0</td>\n",
              "      <td>8.30</td>\n",
              "      <td>4.00</td>\n",
              "      <td>132.88</td>\n",
              "      <td>0.01</td>\n",
              "      <td>10</td>\n",
              "      <td>0.25</td>\n",
              "      <td>7.38</td>\n",
              "      <td>33.22</td>\n",
              "      <td>0.50</td>\n",
              "      <td>1</td>\n",
              "      <td>2</td>\n",
              "      <td>5</td>\n",
              "      <td>2.00</td>\n",
              "      <td>2</td>\n",
              "      <td>8</td>\n",
              "      <td>2</td>\n",
              "      <td>8</td>\n",
              "      <td>1</td>\n",
              "      <td>0.00</td>\n",
              "      <td>0</td>\n",
              "      <td>N</td>\n",
              "    </tr>\n",
              "    <tr>\n",
              "      <th>2</th>\n",
              "      <td>7</td>\n",
              "      <td>5</td>\n",
              "      <td>10</td>\n",
              "      <td>1</td>\n",
              "      <td>12</td>\n",
              "      <td>4</td>\n",
              "      <td>0.31</td>\n",
              "      <td>6</td>\n",
              "      <td>2.0</td>\n",
              "      <td>4</td>\n",
              "      <td>1.0</td>\n",
              "      <td>25</td>\n",
              "      <td>1</td>\n",
              "      <td>0</td>\n",
              "      <td>3</td>\n",
              "      <td>1</td>\n",
              "      <td>14.36</td>\n",
              "      <td>24.56</td>\n",
              "      <td>8656.64</td>\n",
              "      <td>0.12</td>\n",
              "      <td>75</td>\n",
              "      <td>0.04</td>\n",
              "      <td>480.92</td>\n",
              "      <td>352.53</td>\n",
              "      <td>0.25</td>\n",
              "      <td>3</td>\n",
              "      <td>6</td>\n",
              "      <td>23</td>\n",
              "      <td>0.25</td>\n",
              "      <td>26</td>\n",
              "      <td>49</td>\n",
              "      <td>9</td>\n",
              "      <td>17</td>\n",
              "      <td>16</td>\n",
              "      <td>78.57</td>\n",
              "      <td>13</td>\n",
              "      <td>N</td>\n",
              "    </tr>\n",
              "  </tbody>\n",
              "</table>\n",
              "</div>"
            ],
            "text/plain": [
              "   BRANCH_COUNT  CALL_PAIRS  ...  LOC_TOTAL  Defective\n",
              "0             3           2  ...          3          N\n",
              "1             3           1  ...          0          N\n",
              "2             7           5  ...         13          N\n",
              "\n",
              "[3 rows x 37 columns]"
            ]
          },
          "metadata": {
            "tags": []
          },
          "execution_count": 206
        }
      ]
    },
    {
      "cell_type": "code",
      "metadata": {
        "id": "uxMYMCC2MQjE"
      },
      "source": [
        "X = df.iloc[:,0:-1].values\n",
        "y = df.iloc[:,-1].values\n",
        "from sklearn.model_selection import train_test_split\n",
        "X_train, X_test, y_train, y_test = train_test_split(X, y, test_size = 0.20, random_state = 4)"
      ],
      "execution_count": null,
      "outputs": []
    },
    {
      "cell_type": "markdown",
      "metadata": {
        "id": "Is_Q0ao4MuB7"
      },
      "source": [
        "Building the model : Gaussian Naive Bayes Classifier"
      ]
    },
    {
      "cell_type": "code",
      "metadata": {
        "id": "KOSc9TMoM7QT"
      },
      "source": [
        "from sklearn.naive_bayes import GaussianNB\n",
        "\n",
        "model_nb = GaussianNB()"
      ],
      "execution_count": null,
      "outputs": []
    },
    {
      "cell_type": "markdown",
      "metadata": {
        "id": "cVSqLlthNUmN"
      },
      "source": [
        "Building the model : Decision Tree Classifier"
      ]
    },
    {
      "cell_type": "code",
      "metadata": {
        "colab": {
          "base_uri": "https://localhost:8080/"
        },
        "id": "fYKi0cgBNWZr",
        "outputId": "ceeca4f1-fba5-4dc2-d5a3-47b748ac2905"
      },
      "source": [
        "from sklearn.tree import DecisionTreeClassifier\n",
        "from sklearn.model_selection import GridSearchCV \n",
        "model_dt = DecisionTreeClassifier()\n",
        "param_dict_dt={\n",
        "    \"criterion\":['gini','entropy'],\n",
        "    \"max_depth\":range(1,10),\n",
        "    \"min_samples_split\":range(1,10),\n",
        "    \"min_samples_leaf\":range(1,5)\n",
        "}\n",
        "grid_search_dt=GridSearchCV(model_dt,param_grid=param_dict_dt,cv=10,verbose=1,n_jobs=-1,scoring = 'accuracy')\n",
        "dt=grid_search_dt.fit(X_train,y_train)\n",
        "\n",
        "grid_search_dt.best_params_"
      ],
      "execution_count": null,
      "outputs": [
        {
          "output_type": "stream",
          "text": [
            "Fitting 10 folds for each of 648 candidates, totalling 6480 fits\n"
          ],
          "name": "stdout"
        },
        {
          "output_type": "stream",
          "text": [
            "[Parallel(n_jobs=-1)]: Using backend LokyBackend with 2 concurrent workers.\n",
            "[Parallel(n_jobs=-1)]: Done 1030 tasks      | elapsed:    3.3s\n",
            "[Parallel(n_jobs=-1)]: Done 6477 out of 6480 | elapsed:   18.8s remaining:    0.0s\n",
            "[Parallel(n_jobs=-1)]: Done 6480 out of 6480 | elapsed:   18.8s finished\n"
          ],
          "name": "stderr"
        },
        {
          "output_type": "execute_result",
          "data": {
            "text/plain": [
              "{'criterion': 'gini',\n",
              " 'max_depth': 1,\n",
              " 'min_samples_leaf': 1,\n",
              " 'min_samples_split': 2}"
            ]
          },
          "metadata": {
            "tags": []
          },
          "execution_count": 209
        }
      ]
    },
    {
      "cell_type": "markdown",
      "metadata": {
        "id": "11ih147iOAE7"
      },
      "source": [
        "Building the model : Random Forest Classifier"
      ]
    },
    {
      "cell_type": "code",
      "metadata": {
        "colab": {
          "base_uri": "https://localhost:8080/"
        },
        "id": "tqm7LrevNyEq",
        "outputId": "87158560-33f8-4b6c-9683-8d35e698bf1f"
      },
      "source": [
        "from sklearn.ensemble import RandomForestClassifier\n",
        "from sklearn.model_selection import GridSearchCV \n",
        "model_rf = RandomForestClassifier()  \n",
        "\n",
        "param_dict_rf = {\n",
        "    'bootstrap': [True],\n",
        "    'max_depth': [80, 90],\n",
        "    'max_features': [2, 3],\n",
        "    'min_samples_leaf': [3, 4],\n",
        "    'min_samples_split': [8, 10],\n",
        "    'n_estimators': [100, 200]\n",
        "}\n",
        "\n",
        "grid_search_rf = GridSearchCV(estimator = model_rf, param_grid = param_dict_rf, \n",
        "                          cv = 3, n_jobs = -1,scoring = 'accuracy')\n",
        "grid_search_rf.fit(X_train,y_train)\n",
        "grid_search_rf.best_params_"
      ],
      "execution_count": null,
      "outputs": [
        {
          "output_type": "execute_result",
          "data": {
            "text/plain": [
              "{'bootstrap': True,\n",
              " 'max_depth': 80,\n",
              " 'max_features': 2,\n",
              " 'min_samples_leaf': 3,\n",
              " 'min_samples_split': 8,\n",
              " 'n_estimators': 100}"
            ]
          },
          "metadata": {
            "tags": []
          },
          "execution_count": 210
        }
      ]
    },
    {
      "cell_type": "markdown",
      "metadata": {
        "id": "LJPZ5Pt8OX0r"
      },
      "source": [
        "Building the model : Adaboost Classifier"
      ]
    },
    {
      "cell_type": "code",
      "metadata": {
        "colab": {
          "base_uri": "https://localhost:8080/"
        },
        "id": "ab8kfayFOZdy",
        "outputId": "5ebc4a62-3b92-4ff3-ff3e-66e6e838ae13"
      },
      "source": [
        "from sklearn.ensemble import AdaBoostClassifier\n",
        "\n",
        "\n",
        "model_Ada = AdaBoostClassifier(DecisionTreeClassifier(max_depth=1,min_samples_leaf= 2,\n",
        " min_samples_split= 4))\n",
        "\n",
        "params_dict_ada = {'n_estimators': [100,200,300]}\n",
        "grid_search_ada = GridSearchCV(estimator = model_Ada, param_grid = params_dict_ada, \n",
        " cv = 10, n_jobs = -1,scoring = 'accuracy') \n",
        "\n",
        "grid_search_ada.fit(X_train, y_train)  \n",
        "\n",
        "grid_search_ada.best_params_"
      ],
      "execution_count": null,
      "outputs": [
        {
          "output_type": "execute_result",
          "data": {
            "text/plain": [
              "{'n_estimators': 100}"
            ]
          },
          "metadata": {
            "tags": []
          },
          "execution_count": 211
        }
      ]
    },
    {
      "cell_type": "markdown",
      "metadata": {
        "id": "9-s4QtdDPTtM"
      },
      "source": [
        "Building the model : Bagging Classifier\n",
        "\n"
      ]
    },
    {
      "cell_type": "code",
      "metadata": {
        "colab": {
          "base_uri": "https://localhost:8080/"
        },
        "id": "1mcO_WH4PVh1",
        "outputId": "8a8dc8ee-97c2-4bfa-ed41-7df77aab2be8"
      },
      "source": [
        "from sklearn.ensemble import BaggingClassifier\n",
        "\n",
        "model_Bg = BaggingClassifier()\n",
        "\n",
        "\n",
        "param_dict_bg = {\n",
        "    'base_estimator__max_depth' : [1, 2, 3, 4, 5],\n",
        "    'max_samples' : [0.05, 0.1, 0.2, 0.5]\n",
        "}\n",
        "\n",
        "grid_search_bg = GridSearchCV(BaggingClassifier(DecisionTreeClassifier(),\n",
        "                                     n_estimators = 100, max_features = 0.5),\n",
        "                   param_grid=param_dict_bg, scoring = 'accuracy',cv=10, n_jobs = -1, verbose = 1)\n",
        "grid_search_bg.fit(X_train, y_train)\n",
        "grid_search_bg.best_params_"
      ],
      "execution_count": null,
      "outputs": [
        {
          "output_type": "stream",
          "text": [
            "Fitting 10 folds for each of 20 candidates, totalling 200 fits\n"
          ],
          "name": "stdout"
        },
        {
          "output_type": "stream",
          "text": [
            "[Parallel(n_jobs=-1)]: Using backend LokyBackend with 2 concurrent workers.\n",
            "[Parallel(n_jobs=-1)]: Done  46 tasks      | elapsed:    6.1s\n",
            "[Parallel(n_jobs=-1)]: Done 196 tasks      | elapsed:   26.4s\n",
            "[Parallel(n_jobs=-1)]: Done 200 out of 200 | elapsed:   27.0s finished\n"
          ],
          "name": "stderr"
        },
        {
          "output_type": "execute_result",
          "data": {
            "text/plain": [
              "{'base_estimator__max_depth': 1, 'max_samples': 0.05}"
            ]
          },
          "metadata": {
            "tags": []
          },
          "execution_count": 212
        }
      ]
    },
    {
      "cell_type": "code",
      "metadata": {
        "id": "PnLinLs6PpiU"
      },
      "source": [
        "from sklearn.ensemble import BaggingClassifier\n",
        "from sklearn.naive_bayes import GaussianNB\n",
        "from sklearn.tree import DecisionTreeClassifier\n",
        "from sklearn.ensemble import RandomForestClassifier\n",
        "from sklearn.ensemble import AdaBoostClassifier"
      ],
      "execution_count": null,
      "outputs": []
    },
    {
      "cell_type": "code",
      "metadata": {
        "id": "QD7QPGYtPtQf"
      },
      "source": [
        "names = [\"Naive_Bayes\",\"J48\",\"Random_Forest\",\"Adaboost\",\"Bagging\"]\n",
        "classifiers=[\n",
        "             GaussianNB(),\n",
        "                DecisionTreeClassifier(criterion= 'gini',max_depth= 2,min_samples_leaf= 2,min_samples_split= 2),\n",
        "           \n",
        "             RandomForestClassifier(bootstrap= True,max_depth= 80,max_features= 2,min_samples_leaf=3,min_samples_split= 10,n_estimators= 100),\n",
        "            AdaBoostClassifier(DecisionTreeClassifier(max_depth=1,min_samples_leaf= 2,min_samples_split= 4),n_estimators=100),\n",
        "              BaggingClassifier(DecisionTreeClassifier(max_depth= 1),n_estimators = 100, max_features = 0.5,max_samples= 0.05)\n",
        "             ]"
      ],
      "execution_count": null,
      "outputs": []
    },
    {
      "cell_type": "code",
      "metadata": {
        "id": "h1gvDU9sP00p"
      },
      "source": [
        "from sklearn.model_selection import cross_val_score\n",
        "scores_no_sampling = []\n",
        "for name, clf in zip(names, classifiers):\n",
        "    clf.fit(X_train, y_train)\n",
        "    cross_val_score(estimator=clf,X=X_train,y=y_train,cv=10)\n",
        "    score = clf.score(X_test, y_test)\n",
        "    scores_no_sampling.append(score.mean())"
      ],
      "execution_count": null,
      "outputs": []
    },
    {
      "cell_type": "code",
      "metadata": {
        "colab": {
          "base_uri": "https://localhost:8080/"
        },
        "id": "jjwid_Q2QHq6",
        "outputId": "a1de8c8c-ffdb-479c-f3b6-fb4204d6e784"
      },
      "source": [
        "scores_no_sampling"
      ],
      "execution_count": null,
      "outputs": [
        {
          "output_type": "execute_result",
          "data": {
            "text/plain": [
              "[0.8053691275167785,\n",
              " 0.9731543624161074,\n",
              " 0.9731543624161074,\n",
              " 0.9664429530201343,\n",
              " 0.9731543624161074]"
            ]
          },
          "metadata": {
            "tags": []
          },
          "execution_count": 216
        }
      ]
    },
    {
      "cell_type": "code",
      "metadata": {
        "id": "4mLIT7oLQZ-9"
      },
      "source": [
        "import pandas as pd\n",
        "import seaborn as sns"
      ],
      "execution_count": null,
      "outputs": []
    },
    {
      "cell_type": "code",
      "metadata": {
        "colab": {
          "base_uri": "https://localhost:8080/",
          "height": 204
        },
        "id": "vkQlFBneQyfZ",
        "outputId": "11b574c7-a881-4a03-c1dd-2fcb73658c36"
      },
      "source": [
        "result_no_sampling = pd.DataFrame()\n",
        "result_no_sampling['name'] = names\n",
        "result_no_sampling['score'] = scores_no_sampling\n",
        "result_no_sampling"
      ],
      "execution_count": null,
      "outputs": [
        {
          "output_type": "execute_result",
          "data": {
            "text/html": [
              "<div>\n",
              "<style scoped>\n",
              "    .dataframe tbody tr th:only-of-type {\n",
              "        vertical-align: middle;\n",
              "    }\n",
              "\n",
              "    .dataframe tbody tr th {\n",
              "        vertical-align: top;\n",
              "    }\n",
              "\n",
              "    .dataframe thead th {\n",
              "        text-align: right;\n",
              "    }\n",
              "</style>\n",
              "<table border=\"1\" class=\"dataframe\">\n",
              "  <thead>\n",
              "    <tr style=\"text-align: right;\">\n",
              "      <th></th>\n",
              "      <th>name</th>\n",
              "      <th>score</th>\n",
              "    </tr>\n",
              "  </thead>\n",
              "  <tbody>\n",
              "    <tr>\n",
              "      <th>0</th>\n",
              "      <td>Naive_Bayes</td>\n",
              "      <td>0.805369</td>\n",
              "    </tr>\n",
              "    <tr>\n",
              "      <th>1</th>\n",
              "      <td>J48</td>\n",
              "      <td>0.973154</td>\n",
              "    </tr>\n",
              "    <tr>\n",
              "      <th>2</th>\n",
              "      <td>Random_Forest</td>\n",
              "      <td>0.973154</td>\n",
              "    </tr>\n",
              "    <tr>\n",
              "      <th>3</th>\n",
              "      <td>Adaboost</td>\n",
              "      <td>0.966443</td>\n",
              "    </tr>\n",
              "    <tr>\n",
              "      <th>4</th>\n",
              "      <td>Bagging</td>\n",
              "      <td>0.973154</td>\n",
              "    </tr>\n",
              "  </tbody>\n",
              "</table>\n",
              "</div>"
            ],
            "text/plain": [
              "            name     score\n",
              "0    Naive_Bayes  0.805369\n",
              "1            J48  0.973154\n",
              "2  Random_Forest  0.973154\n",
              "3       Adaboost  0.966443\n",
              "4        Bagging  0.973154"
            ]
          },
          "metadata": {
            "tags": []
          },
          "execution_count": 218
        }
      ]
    },
    {
      "cell_type": "code",
      "metadata": {
        "colab": {
          "base_uri": "https://localhost:8080/",
          "height": 285
        },
        "id": "-yTzXJCQRkp6",
        "outputId": "e3056859-e240-4769-89f4-47eaabf7bfb7"
      },
      "source": [
        "sns.set(style=\"whitegrid\")\n",
        "ax = sns.barplot(y=\"name\", x=\"score\", data=result_no_sampling)"
      ],
      "execution_count": null,
      "outputs": [
        {
          "output_type": "display_data",
          "data": {
            "image/png": "[encoded data removed]",
            "text/plain": [
              "<Figure size 432x288 with 1 Axes>"
            ]
          },
          "metadata": {
            "tags": []
          }
        }
      ]
    },
    {
      "cell_type": "code",
      "metadata": {
        "colab": {
          "base_uri": "https://localhost:8080/"
        },
        "id": "FFo_8IdqRx1t",
        "outputId": "4f78ba3f-a978-4829-8974-96a45da7171c"
      },
      "source": [
        "from imblearn.over_sampling import SMOTE\n",
        "smote = SMOTE(k_neighbors=5)\n",
        "X_train_smote, y_train_smote = smote.fit_resample(X_train.astype('float'),y_train)"
      ],
      "execution_count": null,
      "outputs": [
        {
          "output_type": "stream",
          "text": [
            "/usr/local/lib/python3.7/dist-packages/sklearn/utils/deprecation.py:87: FutureWarning: Function safe_indexing is deprecated; safe_indexing is deprecated in version 0.22 and will be removed in version 0.24.\n",
            "  warnings.warn(msg, category=FutureWarning)\n"
          ],
          "name": "stderr"
        }
      ]
    },
    {
      "cell_type": "code",
      "metadata": {
        "colab": {
          "base_uri": "https://localhost:8080/"
        },
        "id": "CMVbqMpWR3of",
        "outputId": "fb00ea69-058d-4d70-94c9-a1ffc8f6711c"
      },
      "source": [
        "from collections import Counter\n",
        "print(\"Before SMOTE :\" , Counter(y_train))\n",
        "print(\"After SMOTE :\" , Counter(y_train_smote))"
      ],
      "execution_count": null,
      "outputs": [
        {
          "output_type": "stream",
          "text": [
            "Before SMOTE : Counter({'N': 584, 'Y': 12})\n",
            "After SMOTE : Counter({'N': 584, 'Y': 584})\n"
          ],
          "name": "stdout"
        }
      ]
    },
    {
      "cell_type": "code",
      "metadata": {
        "id": "2sjwQ3lTR-dH"
      },
      "source": [
        "scores_smote = []\n",
        "for name, clf in zip(names, classifiers):\n",
        "    clf.fit(X_train_smote, y_train_smote)\n",
        "    \n",
        "    cross_val_score(estimator=clf,X=X_train_smote,y=y_train_smote,cv=10)\n",
        "    score = clf.score(X_test, y_test)\n",
        "    scores_smote.append(score)"
      ],
      "execution_count": null,
      "outputs": []
    },
    {
      "cell_type": "code",
      "metadata": {
        "colab": {
          "base_uri": "https://localhost:8080/"
        },
        "id": "NhHhzpw2SeSe",
        "outputId": "dbbd9976-44cc-4844-b820-8c78561f302f"
      },
      "source": [
        "scores_smote"
      ],
      "execution_count": null,
      "outputs": [
        {
          "output_type": "execute_result",
          "data": {
            "text/plain": [
              "[0.5973154362416108,\n",
              " 0.8389261744966443,\n",
              " 0.9664429530201343,\n",
              " 0.9530201342281879,\n",
              " 0.7919463087248322]"
            ]
          },
          "metadata": {
            "tags": []
          },
          "execution_count": 225
        }
      ]
    },
    {
      "cell_type": "code",
      "metadata": {
        "colab": {
          "base_uri": "https://localhost:8080/",
          "height": 204
        },
        "id": "-lyUX7rIS03t",
        "outputId": "76bc9f4e-b9c0-41f9-b78c-c3accd5a4298"
      },
      "source": [
        "result_smote = pd.DataFrame()\n",
        "result_smote['name'] = names\n",
        "result_smote['score'] = scores_smote\n",
        "result_smote"
      ],
      "execution_count": null,
      "outputs": [
        {
          "output_type": "execute_result",
          "data": {
            "text/html": [
              "<div>\n",
              "<style scoped>\n",
              "    .dataframe tbody tr th:only-of-type {\n",
              "        vertical-align: middle;\n",
              "    }\n",
              "\n",
              "    .dataframe tbody tr th {\n",
              "        vertical-align: top;\n",
              "    }\n",
              "\n",
              "    .dataframe thead th {\n",
              "        text-align: right;\n",
              "    }\n",
              "</style>\n",
              "<table border=\"1\" class=\"dataframe\">\n",
              "  <thead>\n",
              "    <tr style=\"text-align: right;\">\n",
              "      <th></th>\n",
              "      <th>name</th>\n",
              "      <th>score</th>\n",
              "    </tr>\n",
              "  </thead>\n",
              "  <tbody>\n",
              "    <tr>\n",
              "      <th>0</th>\n",
              "      <td>Naive_Bayes</td>\n",
              "      <td>0.597315</td>\n",
              "    </tr>\n",
              "    <tr>\n",
              "      <th>1</th>\n",
              "      <td>J48</td>\n",
              "      <td>0.838926</td>\n",
              "    </tr>\n",
              "    <tr>\n",
              "      <th>2</th>\n",
              "      <td>Random_Forest</td>\n",
              "      <td>0.966443</td>\n",
              "    </tr>\n",
              "    <tr>\n",
              "      <th>3</th>\n",
              "      <td>Adaboost</td>\n",
              "      <td>0.953020</td>\n",
              "    </tr>\n",
              "    <tr>\n",
              "      <th>4</th>\n",
              "      <td>Bagging</td>\n",
              "      <td>0.791946</td>\n",
              "    </tr>\n",
              "  </tbody>\n",
              "</table>\n",
              "</div>"
            ],
            "text/plain": [
              "            name     score\n",
              "0    Naive_Bayes  0.597315\n",
              "1            J48  0.838926\n",
              "2  Random_Forest  0.966443\n",
              "3       Adaboost  0.953020\n",
              "4        Bagging  0.791946"
            ]
          },
          "metadata": {
            "tags": []
          },
          "execution_count": 226
        }
      ]
    },
    {
      "cell_type": "code",
      "metadata": {
        "colab": {
          "base_uri": "https://localhost:8080/",
          "height": 285
        },
        "id": "d9Myq72eTGlc",
        "outputId": "cd443d78-776f-44df-ab6e-2049b0359332"
      },
      "source": [
        "sns.set(style=\"whitegrid\")\n",
        "ax = sns.barplot(y=\"name\", x=\"score\", data=result_smote)"
      ],
      "execution_count": null,
      "outputs": [
        {
          "output_type": "display_data",
          "data": {
            "image/png": "[encoded data removed]",
            "text/plain": [
              "<Figure size 432x288 with 1 Axes>"
            ]
          },
          "metadata": {
            "tags": []
          }
        }
      ]
    },
    {
      "cell_type": "code",
      "metadata": {
        "colab": {
          "base_uri": "https://localhost:8080/"
        },
        "id": "eTin_xNJTSC3",
        "outputId": "01ed0581-e554-43bc-c3b0-d1b0eb9ad41f"
      },
      "source": [
        "from imblearn.over_sampling import ADASYN\n",
        "ada = ADASYN(sampling_strategy='minority',random_state=420,n_neighbors=5)\n",
        "X_train_ada, y_train_ada = ada.fit_resample(X_train.astype('float'),y_train)"
      ],
      "execution_count": null,
      "outputs": [
        {
          "output_type": "stream",
          "text": [
            "/usr/local/lib/python3.7/dist-packages/sklearn/utils/deprecation.py:87: FutureWarning: Function safe_indexing is deprecated; safe_indexing is deprecated in version 0.22 and will be removed in version 0.24.\n",
            "  warnings.warn(msg, category=FutureWarning)\n"
          ],
          "name": "stderr"
        }
      ]
    },
    {
      "cell_type": "code",
      "metadata": {
        "colab": {
          "base_uri": "https://localhost:8080/"
        },
        "id": "VZobbFH1Tc-y",
        "outputId": "6820ae84-692e-4c0e-9bdf-54a0643b1fd9"
      },
      "source": [
        "from collections import Counter\n",
        "print(\"Before ADASYN :\" , Counter(y_train))\n",
        "print(\"After ADASYN :\" , Counter(y_train_ada))"
      ],
      "execution_count": null,
      "outputs": [
        {
          "output_type": "stream",
          "text": [
            "Before ADASYN : Counter({'N': 584, 'Y': 12})\n",
            "After ADASYN : Counter({'Y': 588, 'N': 584})\n"
          ],
          "name": "stdout"
        }
      ]
    },
    {
      "cell_type": "code",
      "metadata": {
        "id": "QasTHLg3Tlc5"
      },
      "source": [
        "scores_Adasyn = []\n",
        "for name, clf in zip(names, classifiers):\n",
        "    clf.fit(X_train_ada, y_train_ada)\n",
        "    \n",
        "    cross_val_score(estimator=clf,X=X_train_ada,y=y_train_ada,cv=10)\n",
        "    score = clf.score(X_test, y_test)\n",
        "    scores_Adasyn.append(score)"
      ],
      "execution_count": null,
      "outputs": []
    },
    {
      "cell_type": "code",
      "metadata": {
        "colab": {
          "base_uri": "https://localhost:8080/"
        },
        "id": "p7pR9wxnTp02",
        "outputId": "c3450e3b-0135-495c-8697-d87ac301814f"
      },
      "source": [
        "scores_Adasyn"
      ],
      "execution_count": null,
      "outputs": [
        {
          "output_type": "execute_result",
          "data": {
            "text/plain": [
              "[0.5973154362416108,\n",
              " 0.8389261744966443,\n",
              " 0.9664429530201343,\n",
              " 0.9463087248322147,\n",
              " 0.7919463087248322]"
            ]
          },
          "metadata": {
            "tags": []
          },
          "execution_count": 231
        }
      ]
    },
    {
      "cell_type": "code",
      "metadata": {
        "colab": {
          "base_uri": "https://localhost:8080/",
          "height": 204
        },
        "id": "SXySdEXaTzrQ",
        "outputId": "18b0e07f-1f57-4248-b182-0ee46128c83b"
      },
      "source": [
        "result_Adasyn = pd.DataFrame()\n",
        "result_Adasyn['name'] = names\n",
        "result_Adasyn['score'] = scores_Adasyn\n",
        "result_Adasyn"
      ],
      "execution_count": null,
      "outputs": [
        {
          "output_type": "execute_result",
          "data": {
            "text/html": [
              "<div>\n",
              "<style scoped>\n",
              "    .dataframe tbody tr th:only-of-type {\n",
              "        vertical-align: middle;\n",
              "    }\n",
              "\n",
              "    .dataframe tbody tr th {\n",
              "        vertical-align: top;\n",
              "    }\n",
              "\n",
              "    .dataframe thead th {\n",
              "        text-align: right;\n",
              "    }\n",
              "</style>\n",
              "<table border=\"1\" class=\"dataframe\">\n",
              "  <thead>\n",
              "    <tr style=\"text-align: right;\">\n",
              "      <th></th>\n",
              "      <th>name</th>\n",
              "      <th>score</th>\n",
              "    </tr>\n",
              "  </thead>\n",
              "  <tbody>\n",
              "    <tr>\n",
              "      <th>0</th>\n",
              "      <td>Naive_Bayes</td>\n",
              "      <td>0.597315</td>\n",
              "    </tr>\n",
              "    <tr>\n",
              "      <th>1</th>\n",
              "      <td>J48</td>\n",
              "      <td>0.838926</td>\n",
              "    </tr>\n",
              "    <tr>\n",
              "      <th>2</th>\n",
              "      <td>Random_Forest</td>\n",
              "      <td>0.966443</td>\n",
              "    </tr>\n",
              "    <tr>\n",
              "      <th>3</th>\n",
              "      <td>Adaboost</td>\n",
              "      <td>0.946309</td>\n",
              "    </tr>\n",
              "    <tr>\n",
              "      <th>4</th>\n",
              "      <td>Bagging</td>\n",
              "      <td>0.791946</td>\n",
              "    </tr>\n",
              "  </tbody>\n",
              "</table>\n",
              "</div>"
            ],
            "text/plain": [
              "            name     score\n",
              "0    Naive_Bayes  0.597315\n",
              "1            J48  0.838926\n",
              "2  Random_Forest  0.966443\n",
              "3       Adaboost  0.946309\n",
              "4        Bagging  0.791946"
            ]
          },
          "metadata": {
            "tags": []
          },
          "execution_count": 232
        }
      ]
    },
    {
      "cell_type": "code",
      "metadata": {
        "colab": {
          "base_uri": "https://localhost:8080/",
          "height": 285
        },
        "id": "TkAfhnjGUBbG",
        "outputId": "0e63e2b5-3a8c-4490-8816-05e89f1bee5c"
      },
      "source": [
        "sns.set(style=\"whitegrid\")\n",
        "ax = sns.barplot(y=\"name\", x=\"score\", data=result_Adasyn)"
      ],
      "execution_count": null,
      "outputs": [
        {
          "output_type": "display_data",
          "data": {
            "image/png": "[encoded data removed]",
            "text/plain": [
              "<Figure size 432x288 with 1 Axes>"
            ]
          },
          "metadata": {
            "tags": []
          }
        }
      ]
    },
    {
      "cell_type": "code",
      "metadata": {
        "colab": {
          "base_uri": "https://localhost:8080/"
        },
        "id": "rru6TsvAUIAy",
        "outputId": "60f476d8-bf3a-4b8d-975e-e9302072f674"
      },
      "source": [
        "from imblearn.over_sampling import BorderlineSMOTE\n",
        "slsm = BorderlineSMOTE(sampling_strategy='minority',random_state=420)\n",
        "X_train_slsm, y_train_slsm = slsm.fit_resample(X_train.astype('float'),y_train)\n"
      ],
      "execution_count": null,
      "outputs": [
        {
          "output_type": "stream",
          "text": [
            "/usr/local/lib/python3.7/dist-packages/sklearn/utils/deprecation.py:87: FutureWarning: Function safe_indexing is deprecated; safe_indexing is deprecated in version 0.22 and will be removed in version 0.24.\n",
            "  warnings.warn(msg, category=FutureWarning)\n"
          ],
          "name": "stderr"
        }
      ]
    },
    {
      "cell_type": "code",
      "metadata": {
        "colab": {
          "base_uri": "https://localhost:8080/"
        },
        "id": "ptuYZba-UK3_",
        "outputId": "135b3324-f351-442e-cdd4-efb15393ff8e"
      },
      "source": [
        "from collections import Counter\n",
        "print(\"Before SLSM :\" , Counter(y_train))\n",
        "print(\"After SLSM :\" , Counter(y_train_slsm))"
      ],
      "execution_count": null,
      "outputs": [
        {
          "output_type": "stream",
          "text": [
            "Before SLSM : Counter({'N': 584, 'Y': 12})\n",
            "After SLSM : Counter({'N': 584, 'Y': 12})\n"
          ],
          "name": "stdout"
        }
      ]
    },
    {
      "cell_type": "code",
      "metadata": {
        "id": "WKCx7fwfUUhf"
      },
      "source": [
        "scores_slsm = []\n",
        "for name, clf in zip(names, classifiers):\n",
        "    clf.fit(X_train_slsm, y_train_slsm)\n",
        "    \n",
        "    cross_val_score(estimator=clf,X=X_train_slsm,y=y_train_slsm,cv=10)\n",
        "    score = clf.score(X_test, y_test)\n",
        "    scores_slsm.append(score)"
      ],
      "execution_count": null,
      "outputs": []
    },
    {
      "cell_type": "code",
      "metadata": {
        "colab": {
          "base_uri": "https://localhost:8080/"
        },
        "id": "htXPcAhRUZWH",
        "outputId": "885b0abf-2c22-4fa2-bbb5-814f5fcff935"
      },
      "source": [
        "scores_slsm"
      ],
      "execution_count": null,
      "outputs": [
        {
          "output_type": "execute_result",
          "data": {
            "text/plain": [
              "[0.8053691275167785,\n",
              " 0.9731543624161074,\n",
              " 0.9731543624161074,\n",
              " 0.9664429530201343,\n",
              " 0.9731543624161074]"
            ]
          },
          "metadata": {
            "tags": []
          },
          "execution_count": 237
        }
      ]
    },
    {
      "cell_type": "code",
      "metadata": {
        "colab": {
          "base_uri": "https://localhost:8080/",
          "height": 204
        },
        "id": "kRm-bevIUojv",
        "outputId": "0f6b7709-bc5c-4ba8-fafe-ecdcc6666952"
      },
      "source": [
        "result_slsm = pd.DataFrame()\n",
        "result_slsm['name'] = names\n",
        "result_slsm['score'] = scores_slsm\n",
        "result_slsm"
      ],
      "execution_count": null,
      "outputs": [
        {
          "output_type": "execute_result",
          "data": {
            "text/html": [
              "<div>\n",
              "<style scoped>\n",
              "    .dataframe tbody tr th:only-of-type {\n",
              "        vertical-align: middle;\n",
              "    }\n",
              "\n",
              "    .dataframe tbody tr th {\n",
              "        vertical-align: top;\n",
              "    }\n",
              "\n",
              "    .dataframe thead th {\n",
              "        text-align: right;\n",
              "    }\n",
              "</style>\n",
              "<table border=\"1\" class=\"dataframe\">\n",
              "  <thead>\n",
              "    <tr style=\"text-align: right;\">\n",
              "      <th></th>\n",
              "      <th>name</th>\n",
              "      <th>score</th>\n",
              "    </tr>\n",
              "  </thead>\n",
              "  <tbody>\n",
              "    <tr>\n",
              "      <th>0</th>\n",
              "      <td>Naive_Bayes</td>\n",
              "      <td>0.805369</td>\n",
              "    </tr>\n",
              "    <tr>\n",
              "      <th>1</th>\n",
              "      <td>J48</td>\n",
              "      <td>0.973154</td>\n",
              "    </tr>\n",
              "    <tr>\n",
              "      <th>2</th>\n",
              "      <td>Random_Forest</td>\n",
              "      <td>0.973154</td>\n",
              "    </tr>\n",
              "    <tr>\n",
              "      <th>3</th>\n",
              "      <td>Adaboost</td>\n",
              "      <td>0.966443</td>\n",
              "    </tr>\n",
              "    <tr>\n",
              "      <th>4</th>\n",
              "      <td>Bagging</td>\n",
              "      <td>0.973154</td>\n",
              "    </tr>\n",
              "  </tbody>\n",
              "</table>\n",
              "</div>"
            ],
            "text/plain": [
              "            name     score\n",
              "0    Naive_Bayes  0.805369\n",
              "1            J48  0.973154\n",
              "2  Random_Forest  0.973154\n",
              "3       Adaboost  0.966443\n",
              "4        Bagging  0.973154"
            ]
          },
          "metadata": {
            "tags": []
          },
          "execution_count": 238
        }
      ]
    },
    {
      "cell_type": "code",
      "metadata": {
        "colab": {
          "base_uri": "https://localhost:8080/",
          "height": 285
        },
        "id": "WW_4CrfkUtCs",
        "outputId": "07ec0e5b-8050-4b3d-eda1-de9ca5af31b3"
      },
      "source": [
        "sns.set(style=\"whitegrid\")\n",
        "ax = sns.barplot(y=\"name\", x=\"score\", data=result_slsm)"
      ],
      "execution_count": null,
      "outputs": [
        {
          "output_type": "display_data",
          "data": {
            "image/png": "[encoded data removed]",
            "text/plain": [
              "<Figure size 432x288 with 1 Axes>"
            ]
          },
          "metadata": {
            "tags": []
          }
        }
      ]
    },
    {
      "cell_type": "code",
      "metadata": {
        "id": "EWy20UEIU3nE"
      },
      "source": [
        "from imblearn.over_sampling import RandomOverSampler"
      ],
      "execution_count": null,
      "outputs": []
    },
    {
      "cell_type": "code",
      "metadata": {
        "colab": {
          "base_uri": "https://localhost:8080/"
        },
        "id": "PmKRzaavVCKP",
        "outputId": "4a2352d4-7308-4084-a1e2-c4bbeca88ba8"
      },
      "source": [
        "rdos = RandomOverSampler(sampling_strategy='minority')\n",
        "X_train_rdos, y_train_rdos = rdos.fit_resample(X_train.astype('float'),y_train)"
      ],
      "execution_count": null,
      "outputs": [
        {
          "output_type": "stream",
          "text": [
            "/usr/local/lib/python3.7/dist-packages/sklearn/utils/deprecation.py:87: FutureWarning: Function safe_indexing is deprecated; safe_indexing is deprecated in version 0.22 and will be removed in version 0.24.\n",
            "  warnings.warn(msg, category=FutureWarning)\n"
          ],
          "name": "stderr"
        }
      ]
    },
    {
      "cell_type": "code",
      "metadata": {
        "colab": {
          "base_uri": "https://localhost:8080/"
        },
        "id": "x2841iQkVH6b",
        "outputId": "af603a21-9147-4232-b7cc-23c36409cb61"
      },
      "source": [
        "from collections import Counter\n",
        "print(\"Before rdos :\" , Counter(y_train))\n",
        "print(\"After rdos :\" , Counter(y_train_rdos))"
      ],
      "execution_count": null,
      "outputs": [
        {
          "output_type": "stream",
          "text": [
            "Before rdos : Counter({'N': 584, 'Y': 12})\n",
            "After rdos : Counter({'N': 584, 'Y': 584})\n"
          ],
          "name": "stdout"
        }
      ]
    },
    {
      "cell_type": "code",
      "metadata": {
        "id": "VgPhUZjpVPfI"
      },
      "source": [
        "from sklearn.model_selection import cross_val_score\n",
        "scores_rdos = []\n",
        "for name, clf in zip(names, classifiers):\n",
        "    clf.fit(X_train_rdos, y_train_rdos)\n",
        "    \n",
        "    cross_val_score(estimator=clf,X=X_train_rdos,y=y_train_rdos,cv=10)\n",
        "    score = clf.score(X_test, y_test)\n",
        "    scores_rdos.append(score)"
      ],
      "execution_count": null,
      "outputs": []
    },
    {
      "cell_type": "code",
      "metadata": {
        "colab": {
          "base_uri": "https://localhost:8080/"
        },
        "id": "QadhUCURVV37",
        "outputId": "58af47cb-d457-4caa-901a-995cbd70bd94"
      },
      "source": [
        "scores_rdos"
      ],
      "execution_count": null,
      "outputs": [
        {
          "output_type": "execute_result",
          "data": {
            "text/plain": [
              "[0.7114093959731543,\n",
              " 0.7986577181208053,\n",
              " 0.9731543624161074,\n",
              " 0.9731543624161074,\n",
              " 0.7919463087248322]"
            ]
          },
          "metadata": {
            "tags": []
          },
          "execution_count": 245
        }
      ]
    },
    {
      "cell_type": "code",
      "metadata": {
        "colab": {
          "base_uri": "https://localhost:8080/",
          "height": 204
        },
        "id": "fBF80XIGVbpE",
        "outputId": "e6efbfba-f3c8-4793-c35e-1a448e9171a6"
      },
      "source": [
        "result_rdos = pd.DataFrame()\n",
        "result_rdos['name'] = names\n",
        "result_rdos['score'] = scores_rdos\n",
        "result_rdos"
      ],
      "execution_count": null,
      "outputs": [
        {
          "output_type": "execute_result",
          "data": {
            "text/html": [
              "<div>\n",
              "<style scoped>\n",
              "    .dataframe tbody tr th:only-of-type {\n",
              "        vertical-align: middle;\n",
              "    }\n",
              "\n",
              "    .dataframe tbody tr th {\n",
              "        vertical-align: top;\n",
              "    }\n",
              "\n",
              "    .dataframe thead th {\n",
              "        text-align: right;\n",
              "    }\n",
              "</style>\n",
              "<table border=\"1\" class=\"dataframe\">\n",
              "  <thead>\n",
              "    <tr style=\"text-align: right;\">\n",
              "      <th></th>\n",
              "      <th>name</th>\n",
              "      <th>score</th>\n",
              "    </tr>\n",
              "  </thead>\n",
              "  <tbody>\n",
              "    <tr>\n",
              "      <th>0</th>\n",
              "      <td>Naive_Bayes</td>\n",
              "      <td>0.711409</td>\n",
              "    </tr>\n",
              "    <tr>\n",
              "      <th>1</th>\n",
              "      <td>J48</td>\n",
              "      <td>0.798658</td>\n",
              "    </tr>\n",
              "    <tr>\n",
              "      <th>2</th>\n",
              "      <td>Random_Forest</td>\n",
              "      <td>0.973154</td>\n",
              "    </tr>\n",
              "    <tr>\n",
              "      <th>3</th>\n",
              "      <td>Adaboost</td>\n",
              "      <td>0.973154</td>\n",
              "    </tr>\n",
              "    <tr>\n",
              "      <th>4</th>\n",
              "      <td>Bagging</td>\n",
              "      <td>0.791946</td>\n",
              "    </tr>\n",
              "  </tbody>\n",
              "</table>\n",
              "</div>"
            ],
            "text/plain": [
              "            name     score\n",
              "0    Naive_Bayes  0.711409\n",
              "1            J48  0.798658\n",
              "2  Random_Forest  0.973154\n",
              "3       Adaboost  0.973154\n",
              "4        Bagging  0.791946"
            ]
          },
          "metadata": {
            "tags": []
          },
          "execution_count": 246
        }
      ]
    },
    {
      "cell_type": "code",
      "metadata": {
        "colab": {
          "base_uri": "https://localhost:8080/",
          "height": 285
        },
        "id": "oNVG29A7Vhee",
        "outputId": "8a37de0e-d9a4-4433-e53e-aae3aaa6bfaf"
      },
      "source": [
        "import seaborn as sns\n",
        "sns.set(style=\"whitegrid\")\n",
        "ax = sns.barplot(y=\"name\", x=\"score\", data=result_rdos)"
      ],
      "execution_count": null,
      "outputs": [
        {
          "output_type": "display_data",
          "data": {
            "image/png": "[encoded data removed]",
            "text/plain": [
              "<Figure size 432x288 with 1 Axes>"
            ]
          },
          "metadata": {
            "tags": []
          }
        }
      ]
    },
    {
      "cell_type": "code",
      "metadata": {
        "id": "N3NleFIIVuBf"
      },
      "source": [
        "  from imblearn.over_sampling import SVMSMOTE\n",
        "  svm_smote = SVMSMOTE( sampling_strategy='auto', random_state=None, k_neighbors=5, n_jobs=None, m_neighbors=10, svm_estimator=None, out_step=0.5)\n",
        "X_train_svm_smote, y_train_svm_smote = svm_smote.fit_resample(X_train.astype('float'),y_train)\n",
        "\n"
      ],
      "execution_count": null,
      "outputs": []
    },
    {
      "cell_type": "code",
      "metadata": {
        "colab": {
          "base_uri": "https://localhost:8080/"
        },
        "id": "zUoV1W9LWIVh",
        "outputId": "e50200ea-4bd7-4dff-ba30-e91df1ca32f2"
      },
      "source": [
        "from collections import Counter\n",
        "print(\"Before svm_smote :\" , Counter(y_train))\n",
        "print(\"After svm_smote :\" , Counter(y_train_svm_smote))"
      ],
      "execution_count": null,
      "outputs": [
        {
          "output_type": "stream",
          "text": [
            "Before svm_smote : Counter({'N': 67, 'Y': 33})\n",
            "After svm_smote : Counter({'N': 67, 'Y': 67})\n"
          ],
          "name": "stdout"
        }
      ]
    },
    {
      "cell_type": "code",
      "metadata": {
        "id": "vr5sCoNZWLSg"
      },
      "source": [
        "from sklearn.model_selection import cross_val_score\n",
        "scores_svm_smote = []\n",
        "for name, clf in zip(names, classifiers):\n",
        "    clf.fit(X_train_svm_smote, y_train_svm_smote)\n",
        "    \n",
        "    cross_val_score(estimator=clf,X=X_train_svm_smote,y=y_train_svm_smote,cv=10)\n",
        "    score = clf.score(X_test, y_test)\n",
        "    scores_svm_smote.append(score)"
      ],
      "execution_count": null,
      "outputs": []
    },
    {
      "cell_type": "code",
      "metadata": {
        "colab": {
          "base_uri": "https://localhost:8080/"
        },
        "id": "TiuJjLn0WStn",
        "outputId": "b3faa019-21ec-4b5f-b50d-c1446c73ab28"
      },
      "source": [
        "scores_svm_smote"
      ],
      "execution_count": null,
      "outputs": [
        {
          "output_type": "execute_result",
          "data": {
            "text/plain": [
              "[0.68, 0.68, 0.68, 0.64, 0.56]"
            ]
          },
          "metadata": {
            "tags": []
          },
          "execution_count": 201
        }
      ]
    },
    {
      "cell_type": "code",
      "metadata": {
        "colab": {
          "base_uri": "https://localhost:8080/",
          "height": 204
        },
        "id": "JtBqUNURWX04",
        "outputId": "de3ab14e-1e60-4a1d-fcb8-5c4281d2edad"
      },
      "source": [
        "result_svm_smote = pd.DataFrame()\n",
        "result_svm_smote['name'] = names\n",
        "result_svm_smote['score'] = scores_svm_smote\n",
        "result_svm_smote"
      ],
      "execution_count": null,
      "outputs": [
        {
          "output_type": "execute_result",
          "data": {
            "text/html": [
              "<div>\n",
              "<style scoped>\n",
              "    .dataframe tbody tr th:only-of-type {\n",
              "        vertical-align: middle;\n",
              "    }\n",
              "\n",
              "    .dataframe tbody tr th {\n",
              "        vertical-align: top;\n",
              "    }\n",
              "\n",
              "    .dataframe thead th {\n",
              "        text-align: right;\n",
              "    }\n",
              "</style>\n",
              "<table border=\"1\" class=\"dataframe\">\n",
              "  <thead>\n",
              "    <tr style=\"text-align: right;\">\n",
              "      <th></th>\n",
              "      <th>name</th>\n",
              "      <th>score</th>\n",
              "    </tr>\n",
              "  </thead>\n",
              "  <tbody>\n",
              "    <tr>\n",
              "      <th>0</th>\n",
              "      <td>Naive_Bayes</td>\n",
              "      <td>0.68</td>\n",
              "    </tr>\n",
              "    <tr>\n",
              "      <th>1</th>\n",
              "      <td>J48</td>\n",
              "      <td>0.68</td>\n",
              "    </tr>\n",
              "    <tr>\n",
              "      <th>2</th>\n",
              "      <td>Random_Forest</td>\n",
              "      <td>0.68</td>\n",
              "    </tr>\n",
              "    <tr>\n",
              "      <th>3</th>\n",
              "      <td>Adaboost</td>\n",
              "      <td>0.64</td>\n",
              "    </tr>\n",
              "    <tr>\n",
              "      <th>4</th>\n",
              "      <td>Bagging</td>\n",
              "      <td>0.56</td>\n",
              "    </tr>\n",
              "  </tbody>\n",
              "</table>\n",
              "</div>"
            ],
            "text/plain": [
              "            name  score\n",
              "0    Naive_Bayes   0.68\n",
              "1            J48   0.68\n",
              "2  Random_Forest   0.68\n",
              "3       Adaboost   0.64\n",
              "4        Bagging   0.56"
            ]
          },
          "metadata": {
            "tags": []
          },
          "execution_count": 202
        }
      ]
    },
    {
      "cell_type": "code",
      "metadata": {
        "colab": {
          "base_uri": "https://localhost:8080/",
          "height": 285
        },
        "id": "Pi6F1KnCWdlY",
        "outputId": "07ddcabc-5cfe-4384-b017-3b2123b9ec7b"
      },
      "source": [
        "import seaborn as sns\n",
        "sns.set(style=\"whitegrid\")\n",
        "ax = sns.barplot(y=\"name\", x=\"score\", data=result_svm_smote)"
      ],
      "execution_count": null,
      "outputs": [
        {
          "output_type": "display_data",
          "data": {
            "image/png": "[encoded data removed]",
            "text/plain": [
              "<Figure size 432x288 with 1 Axes>"
            ]
          },
          "metadata": {
            "tags": []
          }
        }
      ]
    }
  ]
}