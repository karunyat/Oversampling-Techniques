{
  "nbformat": 4,
  "nbformat_minor": 0,
  "metadata": {
    "accelerator": "GPU",
    "colab": {
      "name": "CM1.ipynb",
      "provenance": [],
      "collapsed_sections": [],
      "authorship_tag": "ABX9TyOZhSHo9XQ9EACXxEn5lGGx",
      "include_colab_link": true
    },
    "kernelspec": {
      "display_name": "Python 3",
      "name": "python3"
    },
    "language_info": {
      "name": "python"
    }
  },
  "cells": [
    {
      "cell_type": "markdown",
      "metadata": {
        "id": "view-in-github",
        "colab_type": "text"
      },
      "source": [
        "<a href=\"https://colab.research.google.com/github/karunyat/Oversampling-Techniques/blob/main/CM1.ipynb\" target=\"_parent\"><img src=\"https://colab.research.google.com/assets/colab-badge.svg\" alt=\"Open In Colab\"/></a>"
      ]
    },
    {
      "cell_type": "markdown",
      "source": [
        "### NASA Imbalanced Dataset - CM1"
      ],
      "metadata": {
        "id": "5feBY43aFdVp"
      }
    },
    {
      "cell_type": "code",
      "metadata": {
        "colab": {
          "base_uri": "https://localhost:8080/"
        },
        "id": "QtkPy1_nDo9V",
        "outputId": "8be94be4-dd89-41b7-e3ac-d49f6440f42b"
      },
      "source": [
        "from google.colab import drive\n",
        "drive.mount('/content/drive',force_remount=True)"
      ],
      "execution_count": 1,
      "outputs": [
        {
          "output_type": "stream",
          "name": "stdout",
          "text": [
            "Mounted at /content/drive\n"
          ]
        }
      ]
    },
    {
      "cell_type": "code",
      "metadata": {
        "id": "N6bZhyonD6e-"
      },
      "source": [
        "import pandas as pd\n",
        "from sklearn.model_selection import GridSearchCV \n",
        "import matplotlib.pyplot as plt\n",
        "df=pd.read_csv('/content/drive/My Drive/CM1.csv')"
      ],
      "execution_count": 2,
      "outputs": []
    },
    {
      "cell_type": "code",
      "metadata": {
        "colab": {
          "base_uri": "https://localhost:8080/",
          "height": 237
        },
        "id": "Wg4_tfgXD6eR",
        "outputId": "d8033571-05c6-4652-d763-389f9acc557f"
      },
      "source": [
        "import numpy as np\n",
        "df.head(3)"
      ],
      "execution_count": 3,
      "outputs": [
        {
          "output_type": "execute_result",
          "data": {
            "text/plain": [
              "    loc  v(g)  ev(g)  iv(g)     n       v     l    d      i        e  ...  \\\n",
              "0   1.1   1.4    1.4    1.4   1.3    1.30  1.30  1.3   1.30     1.30  ...   \n",
              "1   1.0   1.0    1.0    1.0   1.0    1.00  1.00  1.0   1.00     1.00  ...   \n",
              "2  24.0   5.0    1.0    3.0  63.0  309.13  0.11  9.5  32.54  2936.77  ...   \n",
              "\n",
              "   lOCode  lOComment  lOBlank  locCodeAndComment  uniq_Op  uniq_Opnd  \\\n",
              "0       2          2        2                  2      1.2        1.2   \n",
              "1       1          1        1                  1      1.0        1.0   \n",
              "2       1          0        6                  0     15.0       15.0   \n",
              "\n",
              "   total_Op  total_Opnd  branchCount  class  \n",
              "0       1.2         1.2          1.4  False  \n",
              "1       1.0         1.0          1.0   True  \n",
              "2      44.0        19.0          9.0  False  \n",
              "\n",
              "[3 rows x 22 columns]"
            ],
            "text/html": [
              "\n",
              "  <div id=\"df-e1a066f1-1e8a-411e-932e-2dcfef8257c4\">\n",
              "    <div class=\"colab-df-container\">\n",
              "      <div>\n",
              "<style scoped>\n",
              "    .dataframe tbody tr th:only-of-type {\n",
              "        vertical-align: middle;\n",
              "    }\n",
              "\n",
              "    .dataframe tbody tr th {\n",
              "        vertical-align: top;\n",
              "    }\n",
              "\n",
              "    .dataframe thead th {\n",
              "        text-align: right;\n",
              "    }\n",
              "</style>\n",
              "<table border=\"1\" class=\"dataframe\">\n",
              "  <thead>\n",
              "    <tr style=\"text-align: right;\">\n",
              "      <th></th>\n",
              "      <th>loc</th>\n",
              "      <th>v(g)</th>\n",
              "      <th>ev(g)</th>\n",
              "      <th>iv(g)</th>\n",
              "      <th>n</th>\n",
              "      <th>v</th>\n",
              "      <th>l</th>\n",
              "      <th>d</th>\n",
              "      <th>i</th>\n",
              "      <th>e</th>\n",
              "      <th>...</th>\n",
              "      <th>lOCode</th>\n",
              "      <th>lOComment</th>\n",
              "      <th>lOBlank</th>\n",
              "      <th>locCodeAndComment</th>\n",
              "      <th>uniq_Op</th>\n",
              "      <th>uniq_Opnd</th>\n",
              "      <th>total_Op</th>\n",
              "      <th>total_Opnd</th>\n",
              "      <th>branchCount</th>\n",
              "      <th>class</th>\n",
              "    </tr>\n",
              "  </thead>\n",
              "  <tbody>\n",
              "    <tr>\n",
              "      <th>0</th>\n",
              "      <td>1.1</td>\n",
              "      <td>1.4</td>\n",
              "      <td>1.4</td>\n",
              "      <td>1.4</td>\n",
              "      <td>1.3</td>\n",
              "      <td>1.30</td>\n",
              "      <td>1.30</td>\n",
              "      <td>1.3</td>\n",
              "      <td>1.30</td>\n",
              "      <td>1.30</td>\n",
              "      <td>...</td>\n",
              "      <td>2</td>\n",
              "      <td>2</td>\n",
              "      <td>2</td>\n",
              "      <td>2</td>\n",
              "      <td>1.2</td>\n",
              "      <td>1.2</td>\n",
              "      <td>1.2</td>\n",
              "      <td>1.2</td>\n",
              "      <td>1.4</td>\n",
              "      <td>False</td>\n",
              "    </tr>\n",
              "    <tr>\n",
              "      <th>1</th>\n",
              "      <td>1.0</td>\n",
              "      <td>1.0</td>\n",
              "      <td>1.0</td>\n",
              "      <td>1.0</td>\n",
              "      <td>1.0</td>\n",
              "      <td>1.00</td>\n",
              "      <td>1.00</td>\n",
              "      <td>1.0</td>\n",
              "      <td>1.00</td>\n",
              "      <td>1.00</td>\n",
              "      <td>...</td>\n",
              "      <td>1</td>\n",
              "      <td>1</td>\n",
              "      <td>1</td>\n",
              "      <td>1</td>\n",
              "      <td>1.0</td>\n",
              "      <td>1.0</td>\n",
              "      <td>1.0</td>\n",
              "      <td>1.0</td>\n",
              "      <td>1.0</td>\n",
              "      <td>True</td>\n",
              "    </tr>\n",
              "    <tr>\n",
              "      <th>2</th>\n",
              "      <td>24.0</td>\n",
              "      <td>5.0</td>\n",
              "      <td>1.0</td>\n",
              "      <td>3.0</td>\n",
              "      <td>63.0</td>\n",
              "      <td>309.13</td>\n",
              "      <td>0.11</td>\n",
              "      <td>9.5</td>\n",
              "      <td>32.54</td>\n",
              "      <td>2936.77</td>\n",
              "      <td>...</td>\n",
              "      <td>1</td>\n",
              "      <td>0</td>\n",
              "      <td>6</td>\n",
              "      <td>0</td>\n",
              "      <td>15.0</td>\n",
              "      <td>15.0</td>\n",
              "      <td>44.0</td>\n",
              "      <td>19.0</td>\n",
              "      <td>9.0</td>\n",
              "      <td>False</td>\n",
              "    </tr>\n",
              "  </tbody>\n",
              "</table>\n",
              "<p>3 rows × 22 columns</p>\n",
              "</div>\n",
              "      <button class=\"colab-df-convert\" onclick=\"convertToInteractive('df-e1a066f1-1e8a-411e-932e-2dcfef8257c4')\"\n",
              "              title=\"Convert this dataframe to an interactive table.\"\n",
              "              style=\"display:none;\">\n",
              "        \n",
              "  <svg xmlns=\"http://www.w3.org/2000/svg\" height=\"24px\"viewBox=\"0 0 24 24\"\n",
              "       width=\"24px\">\n",
              "    <path d=\"M0 0h24v24H0V0z\" fill=\"none\"/>\n",
              "    <path d=\"M18.56 5.44l.94 2.06.94-2.06 2.06-.94-2.06-.94-.94-2.06-.94 2.06-2.06.94zm-11 1L8.5 8.5l.94-2.06 2.06-.94-2.06-.94L8.5 2.5l-.94 2.06-2.06.94zm10 10l.94 2.06.94-2.06 2.06-.94-2.06-.94-.94-2.06-.94 2.06-2.06.94z\"/><path d=\"M17.41 7.96l-1.37-1.37c-.4-.4-.92-.59-1.43-.59-.52 0-1.04.2-1.43.59L10.3 9.45l-7.72 7.72c-.78.78-.78 2.05 0 2.83L4 21.41c.39.39.9.59 1.41.59.51 0 1.02-.2 1.41-.59l7.78-7.78 2.81-2.81c.8-.78.8-2.07 0-2.86zM5.41 20L4 18.59l7.72-7.72 1.47 1.35L5.41 20z\"/>\n",
              "  </svg>\n",
              "      </button>\n",
              "      \n",
              "  <style>\n",
              "    .colab-df-container {\n",
              "      display:flex;\n",
              "      flex-wrap:wrap;\n",
              "      gap: 12px;\n",
              "    }\n",
              "\n",
              "    .colab-df-convert {\n",
              "      background-color: #E8F0FE;\n",
              "      border: none;\n",
              "      border-radius: 50%;\n",
              "      cursor: pointer;\n",
              "      display: none;\n",
              "      fill: #1967D2;\n",
              "      height: 32px;\n",
              "      padding: 0 0 0 0;\n",
              "      width: 32px;\n",
              "    }\n",
              "\n",
              "    .colab-df-convert:hover {\n",
              "      background-color: #E2EBFA;\n",
              "      box-shadow: 0px 1px 2px rgba(60, 64, 67, 0.3), 0px 1px 3px 1px rgba(60, 64, 67, 0.15);\n",
              "      fill: #174EA6;\n",
              "    }\n",
              "\n",
              "    [theme=dark] .colab-df-convert {\n",
              "      background-color: #3B4455;\n",
              "      fill: #D2E3FC;\n",
              "    }\n",
              "\n",
              "    [theme=dark] .colab-df-convert:hover {\n",
              "      background-color: #434B5C;\n",
              "      box-shadow: 0px 1px 3px 1px rgba(0, 0, 0, 0.15);\n",
              "      filter: drop-shadow(0px 1px 2px rgba(0, 0, 0, 0.3));\n",
              "      fill: #FFFFFF;\n",
              "    }\n",
              "  </style>\n",
              "\n",
              "      <script>\n",
              "        const buttonEl =\n",
              "          document.querySelector('#df-e1a066f1-1e8a-411e-932e-2dcfef8257c4 button.colab-df-convert');\n",
              "        buttonEl.style.display =\n",
              "          google.colab.kernel.accessAllowed ? 'block' : 'none';\n",
              "\n",
              "        async function convertToInteractive(key) {\n",
              "          const element = document.querySelector('#df-e1a066f1-1e8a-411e-932e-2dcfef8257c4');\n",
              "          const dataTable =\n",
              "            await google.colab.kernel.invokeFunction('convertToInteractive',\n",
              "                                                     [key], {});\n",
              "          if (!dataTable) return;\n",
              "\n",
              "          const docLinkHtml = 'Like what you see? Visit the ' +\n",
              "            '<a target=\"_blank\" href=https://colab.research.google.com/notebooks/data_table.ipynb>data table notebook</a>'\n",
              "            + ' to learn more about interactive tables.';\n",
              "          element.innerHTML = '';\n",
              "          dataTable['output_type'] = 'display_data';\n",
              "          await google.colab.output.renderOutput(dataTable, element);\n",
              "          const docLink = document.createElement('div');\n",
              "          docLink.innerHTML = docLinkHtml;\n",
              "          element.appendChild(docLink);\n",
              "        }\n",
              "      </script>\n",
              "    </div>\n",
              "  </div>\n",
              "  "
            ]
          },
          "metadata": {},
          "execution_count": 3
        }
      ]
    },
    {
      "cell_type": "code",
      "metadata": {
        "id": "wCfSrD7hD6df"
      },
      "source": [
        "X = df.iloc[:,0:-1].values\n",
        "y = df.iloc[:,-1].values\n",
        "from sklearn.model_selection import train_test_split\n",
        "X_train, X_test, y_train, y_test = train_test_split(X, y, test_size = 0.20, random_state = 4)"
      ],
      "execution_count": 4,
      "outputs": []
    },
    {
      "cell_type": "markdown",
      "metadata": {
        "id": "SgIKTwusBs8s"
      },
      "source": [
        "Building the model : Gaussian Naive Bayes Classifier"
      ]
    },
    {
      "cell_type": "code",
      "metadata": {
        "id": "1qrrk5NqD6Gs"
      },
      "source": [
        "from sklearn.naive_bayes import GaussianNB\n",
        "\n",
        "model_nb = GaussianNB()\n"
      ],
      "execution_count": 5,
      "outputs": []
    },
    {
      "cell_type": "markdown",
      "metadata": {
        "id": "aq-3VUXbB68-"
      },
      "source": [
        "Building the model : Decision Tree Classifier"
      ]
    },
    {
      "cell_type": "code",
      "metadata": {
        "colab": {
          "base_uri": "https://localhost:8080/"
        },
        "id": "Uscy2WpAD6Bk",
        "outputId": "6f2a77e9-27d7-4d6f-960e-2cf44c8958ea"
      },
      "source": [
        "from sklearn.tree import DecisionTreeClassifier\n",
        "from sklearn.model_selection import GridSearchCV \n",
        "model_dt = DecisionTreeClassifier()\n",
        "param_dict_dt={\n",
        "    \"criterion\":['gini','entropy'],\n",
        "    \"max_depth\":range(1,10),\n",
        "    \"min_samples_split\":range(1,10),\n",
        "    \"min_samples_leaf\":range(1,5)\n",
        "}\n",
        "grid_search_dt=GridSearchCV(model_dt,param_grid=param_dict_dt,cv=10,verbose=1,n_jobs=-1,scoring = 'accuracy')\n",
        "dt=grid_search_dt.fit(X_train,y_train)\n",
        "\n",
        "grid_search_dt.best_params_"
      ],
      "execution_count": 6,
      "outputs": [
        {
          "output_type": "stream",
          "name": "stdout",
          "text": [
            "Fitting 10 folds for each of 648 candidates, totalling 6480 fits\n"
          ]
        },
        {
          "output_type": "stream",
          "name": "stderr",
          "text": [
            "/usr/local/lib/python3.7/dist-packages/sklearn/model_selection/_validation.py:372: FitFailedWarning: \n",
            "720 fits failed out of a total of 6480.\n",
            "The score on these train-test partitions for these parameters will be set to nan.\n",
            "If these failures are not expected, you can try to debug them by setting error_score='raise'.\n",
            "\n",
            "Below are more details about the failures:\n",
            "--------------------------------------------------------------------------------\n",
            "720 fits failed with the following error:\n",
            "Traceback (most recent call last):\n",
            "  File \"/usr/local/lib/python3.7/dist-packages/sklearn/model_selection/_validation.py\", line 680, in _fit_and_score\n",
            "    estimator.fit(X_train, y_train, **fit_params)\n",
            "  File \"/usr/local/lib/python3.7/dist-packages/sklearn/tree/_classes.py\", line 942, in fit\n",
            "    X_idx_sorted=X_idx_sorted,\n",
            "  File \"/usr/local/lib/python3.7/dist-packages/sklearn/tree/_classes.py\", line 254, in fit\n",
            "    % self.min_samples_split\n",
            "ValueError: min_samples_split must be an integer greater than 1 or a float in (0.0, 1.0]; got the integer 1\n",
            "\n",
            "  warnings.warn(some_fits_failed_message, FitFailedWarning)\n",
            "/usr/local/lib/python3.7/dist-packages/sklearn/model_selection/_search.py:972: UserWarning: One or more of the test scores are non-finite: [       nan 0.89955128 0.89955128 0.89955128 0.89955128 0.89955128\n",
            " 0.89955128 0.89955128 0.89955128        nan 0.89955128 0.89955128\n",
            " 0.89955128 0.89955128 0.89955128 0.89955128 0.89955128 0.89955128\n",
            "        nan 0.89955128 0.89955128 0.89955128 0.89955128 0.89955128\n",
            " 0.89955128 0.89955128 0.89955128        nan 0.89955128 0.89955128\n",
            " 0.89955128 0.89955128 0.89955128 0.89955128 0.89955128 0.89955128\n",
            "        nan 0.89948718 0.89948718 0.89948718 0.89948718 0.89948718\n",
            " 0.89948718 0.90198718 0.90198718        nan 0.90455128 0.90455128\n",
            " 0.90705128 0.90205128 0.90455128 0.90455128 0.90455128 0.90455128\n",
            "        nan 0.90705128 0.90455128 0.90705128 0.90705128 0.90455128\n",
            " 0.90705128 0.90455128 0.90455128        nan 0.90455128 0.90455128\n",
            " 0.90705128 0.90455128 0.90455128 0.90455128 0.90705128 0.90455128\n",
            "        nan 0.89198718 0.89198718 0.89448718 0.89448718 0.89198718\n",
            " 0.89198718 0.89948718 0.89948718        nan 0.88692308 0.88692308\n",
            " 0.89442308 0.88442308 0.89192308 0.89442308 0.89692308 0.89692308\n",
            "        nan 0.89442308 0.88935897 0.88685897 0.88942308 0.88942308\n",
            " 0.89442308 0.89692308 0.89692308        nan 0.89442308 0.89442308\n",
            " 0.89692308 0.89442308 0.89692308 0.89692308 0.89442308 0.89442308\n",
            "        nan 0.88698718 0.89448718 0.88698718 0.88948718 0.88948718\n",
            " 0.89198718 0.89698718 0.89948718        nan 0.88935897 0.89448718\n",
            " 0.89435897 0.88692308 0.89698718 0.89942308 0.89942308 0.89692308\n",
            "        nan 0.89442308 0.89942308 0.89192308 0.89435897 0.89442308\n",
            " 0.89442308 0.89692308 0.89692308        nan 0.89192308 0.88692308\n",
            " 0.89192308 0.88942308 0.88692308 0.88942308 0.89192308 0.89192308\n",
            "        nan 0.88705128 0.88455128 0.88205128 0.87198718 0.88448718\n",
            " 0.88192308 0.88948718 0.89198718        nan 0.87685897 0.88692308\n",
            " 0.87429487 0.87935897 0.88442308 0.87935897 0.88685897 0.88685897\n",
            "        nan 0.88185897 0.88185897 0.88185897 0.88185897 0.88935897\n",
            " 0.88179487 0.88685897 0.88435897        nan 0.87935897 0.87685897\n",
            " 0.87685897 0.88185897 0.88185897 0.88185897 0.87935897 0.87935897\n",
            "        nan 0.87948718 0.87948718 0.87448718 0.88192308 0.86935897\n",
            " 0.88192308 0.88692308 0.88692308        nan 0.88692308 0.88435897\n",
            " 0.88692308 0.87685897 0.88692308 0.88692308 0.88179487 0.88179487\n",
            "        nan 0.88192308 0.88185897 0.87942308 0.87692308 0.87935897\n",
            " 0.88192308 0.88185897 0.88185897        nan 0.88185897 0.87435897\n",
            " 0.87685897 0.87935897 0.87185897 0.87685897 0.87435897 0.87435897\n",
            "        nan 0.84442308 0.86692308 0.86942308 0.86179487 0.86179487\n",
            " 0.85935897 0.86179487 0.86685897        nan 0.87935897 0.87185897\n",
            " 0.86942308 0.86935897 0.87442308 0.88185897 0.87685897 0.87435897\n",
            "        nan 0.84423077 0.85429487 0.85179487 0.84929487 0.84173077\n",
            " 0.85673077 0.84423077 0.84923077        nan 0.85673077 0.85923077\n",
            " 0.86173077 0.85923077 0.85673077 0.84923077 0.85923077 0.85923077\n",
            "        nan 0.85192308 0.86448718 0.86442308 0.87192308 0.86429487\n",
            " 0.86185897 0.86929487 0.86685897        nan 0.86442308 0.86442308\n",
            " 0.87948718 0.86192308 0.87192308 0.86692308 0.86685897 0.86429487\n",
            "        nan 0.85673077 0.84173077 0.84423077 0.84916667 0.84173077\n",
            " 0.85173077 0.84666667 0.84666667        nan 0.84166667 0.84166667\n",
            " 0.85166667 0.84416667 0.84166667 0.84666667 0.84916667 0.85166667\n",
            "        nan 0.83685897 0.84942308 0.85935897 0.85173077 0.85423077\n",
            " 0.85679487 0.86929487 0.86435897        nan 0.86442308 0.86935897\n",
            " 0.86179487 0.85673077 0.85685897 0.86692308 0.86685897 0.86429487\n",
            "        nan 0.84923077 0.84923077 0.84173077 0.85410256 0.85166667\n",
            " 0.84416667 0.84916667 0.84416667        nan 0.84166667 0.84916667\n",
            " 0.84666667 0.84166667 0.83916667 0.84916667 0.84416667 0.84666667\n",
            "        nan 0.90205128 0.90205128 0.90205128 0.90205128 0.90205128\n",
            " 0.90205128 0.90205128 0.90205128        nan 0.90205128 0.90205128\n",
            " 0.90205128 0.90205128 0.90205128 0.90205128 0.90205128 0.90205128\n",
            "        nan 0.90205128 0.90205128 0.90205128 0.90205128 0.90205128\n",
            " 0.90205128 0.90205128 0.90205128        nan 0.90205128 0.90205128\n",
            " 0.90205128 0.90205128 0.90205128 0.90205128 0.90205128 0.90205128\n",
            "        nan 0.89955128 0.89955128 0.89955128 0.89955128 0.89955128\n",
            " 0.89955128 0.89955128 0.89955128        nan 0.89955128 0.89955128\n",
            " 0.89955128 0.89955128 0.89955128 0.89955128 0.89955128 0.89955128\n",
            "        nan 0.89955128 0.89955128 0.89955128 0.89955128 0.89955128\n",
            " 0.89955128 0.89955128 0.89955128        nan 0.89955128 0.89955128\n",
            " 0.89955128 0.89955128 0.89955128 0.89955128 0.89955128 0.89955128\n",
            "        nan 0.88948718 0.88698718 0.88448718 0.88448718 0.88948718\n",
            " 0.88698718 0.88948718 0.88948718        nan 0.88198718 0.88698718\n",
            " 0.88448718 0.88198718 0.88698718 0.88948718 0.88698718 0.88948718\n",
            "        nan 0.88948718 0.89198718 0.89448718 0.89198718 0.88948718\n",
            " 0.88948718 0.88948718 0.88948718        nan 0.89448718 0.89198718\n",
            " 0.89448718 0.89698718 0.89198718 0.89198718 0.89448718 0.89448718\n",
            "        nan 0.87442308 0.87442308 0.87692308 0.87948718 0.88192308\n",
            " 0.88448718 0.88698718 0.88698718        nan 0.88698718 0.88448718\n",
            " 0.88198718 0.88198718 0.88698718 0.88192308 0.88198718 0.88198718\n",
            "        nan 0.88698718 0.88448718 0.88448718 0.88448718 0.88448718\n",
            " 0.88192308 0.88698718 0.88698718        nan 0.88448718 0.88448718\n",
            " 0.88448718 0.88698718 0.88448718 0.88698718 0.88448718 0.88698718\n",
            "        nan 0.87948718 0.87192308 0.87198718 0.87948718 0.88198718\n",
            " 0.87948718 0.88198718 0.88448718        nan 0.88448718 0.88448718\n",
            " 0.88192308 0.88448718 0.88442308 0.88448718 0.88198718 0.87698718\n",
            "        nan 0.88698718 0.88442308 0.88448718 0.88192308 0.88698718\n",
            " 0.88692308 0.87698718 0.88198718        nan 0.88448718 0.88698718\n",
            " 0.88698718 0.88698718 0.88448718 0.88948718 0.88448718 0.88698718\n",
            "        nan 0.86935897 0.87185897 0.86685897 0.87935897 0.87185897\n",
            " 0.86685897 0.86935897 0.86685897        nan 0.86435897 0.86685897\n",
            " 0.86685897 0.86935897 0.86935897 0.87935897 0.87435897 0.86935897\n",
            "        nan 0.86935897 0.86935897 0.87435897 0.87435897 0.86685897\n",
            " 0.87429487 0.87685897 0.87185897        nan 0.87935897 0.88185897\n",
            " 0.87685897 0.87685897 0.87685897 0.87185897 0.87935897 0.87935897\n",
            "        nan 0.86448718 0.86942308 0.85692308 0.84935897 0.86198718\n",
            " 0.86185897 0.86198718 0.86448718        nan 0.85685897 0.86692308\n",
            " 0.86192308 0.85185897 0.86192308 0.86173077 0.86429487 0.86185897\n",
            "        nan 0.86185897 0.85179487 0.86185897 0.85679487 0.85185897\n",
            " 0.86935897 0.86685897 0.86435897        nan 0.86935897 0.86935897\n",
            " 0.87185897 0.86935897 0.86435897 0.86685897 0.86185897 0.87185897\n",
            "        nan 0.85429487 0.84929487 0.85679487 0.85435897 0.86192308\n",
            " 0.85429487 0.86192308 0.85935897        nan 0.85423077 0.85185897\n",
            " 0.85679487 0.84679487 0.86185897 0.86935897 0.85929487 0.85679487\n",
            "        nan 0.86685897 0.85935897 0.85685897 0.86685897 0.86429487\n",
            " 0.86935897 0.87435897 0.86935897        nan 0.86929487 0.87429487\n",
            " 0.87429487 0.86929487 0.87179487 0.87179487 0.86429487 0.86179487\n",
            "        nan 0.84673077 0.83666667 0.84429487 0.84923077 0.85923077\n",
            " 0.84923077 0.83923077 0.84166667        nan 0.83916667 0.85173077\n",
            " 0.85429487 0.85166667 0.84423077 0.86173077 0.85673077 0.85929487\n",
            "        nan 0.85423077 0.84923077 0.85423077 0.84416667 0.84423077\n",
            " 0.86673077 0.86173077 0.86173077        nan 0.85166667 0.84416667\n",
            " 0.86173077 0.85916667 0.86166667 0.85166667 0.85416667 0.85916667]\n",
            "  category=UserWarning,\n"
          ]
        },
        {
          "output_type": "execute_result",
          "data": {
            "text/plain": [
              "{'criterion': 'gini',\n",
              " 'max_depth': 2,\n",
              " 'min_samples_leaf': 2,\n",
              " 'min_samples_split': 4}"
            ]
          },
          "metadata": {},
          "execution_count": 6
        }
      ]
    },
    {
      "cell_type": "markdown",
      "metadata": {
        "id": "Jxsuk8QVCBKh"
      },
      "source": [
        "Building the model : Random Forest Classifier"
      ]
    },
    {
      "cell_type": "code",
      "metadata": {
        "colab": {
          "base_uri": "https://localhost:8080/"
        },
        "id": "wFo4rBbiwVcE",
        "outputId": "e5251ab1-626f-4ec3-fabd-450d50ec81db"
      },
      "source": [
        "from sklearn.ensemble import RandomForestClassifier\n",
        "from sklearn.model_selection import GridSearchCV \n",
        "model_rf = RandomForestClassifier()  \n",
        "\n",
        "param_dict_rf = {\n",
        "    'bootstrap': [True],\n",
        "    'max_depth': [80, 90],\n",
        "    'max_features': [2, 3],\n",
        "    'min_samples_leaf': [3, 4],\n",
        "    'min_samples_split': [8, 10],\n",
        "    'n_estimators': [100, 200]\n",
        "}\n",
        "\n",
        "grid_search_rf = GridSearchCV(estimator = model_rf, param_grid = param_dict_rf, \n",
        "                          cv = 3, n_jobs = -1,scoring = 'accuracy')\n",
        "grid_search_rf.fit(X_train,y_train)\n",
        "grid_search_rf.best_params_"
      ],
      "execution_count": 7,
      "outputs": [
        {
          "output_type": "execute_result",
          "data": {
            "text/plain": [
              "{'bootstrap': True,\n",
              " 'max_depth': 80,\n",
              " 'max_features': 2,\n",
              " 'min_samples_leaf': 3,\n",
              " 'min_samples_split': 8,\n",
              " 'n_estimators': 100}"
            ]
          },
          "metadata": {},
          "execution_count": 7
        }
      ]
    },
    {
      "cell_type": "markdown",
      "metadata": {
        "id": "74oqECkECIrc"
      },
      "source": [
        "Building the model : Adaboost Classifier"
      ]
    },
    {
      "cell_type": "code",
      "metadata": {
        "colab": {
          "base_uri": "https://localhost:8080/"
        },
        "id": "EuQwmClC0LQV",
        "outputId": "4a649823-e2d0-4ddd-e1ec-3489ac0a91c2"
      },
      "source": [
        "from sklearn.ensemble import AdaBoostClassifier\n",
        "\n",
        "\n",
        "model_Ada = AdaBoostClassifier(DecisionTreeClassifier(max_depth=1,min_samples_leaf= 2,\n",
        " min_samples_split= 4))\n",
        "\n",
        "params_dict_ada = {'n_estimators': [100,200,300]}\n",
        "grid_search_ada = GridSearchCV(estimator = model_Ada, param_grid = params_dict_ada, \n",
        " cv = 10, n_jobs = -1,scoring = 'accuracy') \n",
        "\n",
        "grid_search_ada.fit(X_train, y_train)  \n",
        "\n",
        "grid_search_ada.best_params_"
      ],
      "execution_count": 8,
      "outputs": [
        {
          "output_type": "execute_result",
          "data": {
            "text/plain": [
              "{'n_estimators': 100}"
            ]
          },
          "metadata": {},
          "execution_count": 8
        }
      ]
    },
    {
      "cell_type": "markdown",
      "metadata": {
        "id": "pcuvzqO2CMUP"
      },
      "source": [
        "Building the model : Bagging Classifier"
      ]
    },
    {
      "cell_type": "code",
      "metadata": {
        "colab": {
          "base_uri": "https://localhost:8080/"
        },
        "id": "aUIMoEsX604C",
        "outputId": "f7d03dbb-0bb8-4273-ef1d-80953c3f61db"
      },
      "source": [
        "from sklearn.ensemble import BaggingClassifier\n",
        "\n",
        "model_Bg = BaggingClassifier()\n",
        "\n",
        "\n",
        "param_dict_bg = {\n",
        "    'base_estimator__max_depth' : [1, 2, 3, 4, 5],\n",
        "    'max_samples' : [0.05, 0.1, 0.2, 0.5]\n",
        "}\n",
        "\n",
        "grid_search_bg = GridSearchCV(BaggingClassifier(DecisionTreeClassifier(),\n",
        "                                     n_estimators = 100, max_features = 0.5),\n",
        "                   param_grid=param_dict_bg, scoring = 'accuracy',cv=10, n_jobs = -1, verbose = 1)\n",
        "grid_search_bg.fit(X_train, y_train)\n",
        "grid_search_bg.best_params_"
      ],
      "execution_count": 9,
      "outputs": [
        {
          "output_type": "stream",
          "name": "stdout",
          "text": [
            "Fitting 10 folds for each of 20 candidates, totalling 200 fits\n"
          ]
        },
        {
          "output_type": "execute_result",
          "data": {
            "text/plain": [
              "{'base_estimator__max_depth': 1, 'max_samples': 0.5}"
            ]
          },
          "metadata": {},
          "execution_count": 9
        }
      ]
    },
    {
      "cell_type": "code",
      "metadata": {
        "id": "IkLTTUHeF0Nb"
      },
      "source": [
        "from sklearn.ensemble import BaggingClassifier\n",
        "from sklearn.naive_bayes import GaussianNB\n",
        "from sklearn.tree import DecisionTreeClassifier\n",
        "from sklearn.ensemble import RandomForestClassifier\n",
        "from sklearn.ensemble import AdaBoostClassifier"
      ],
      "execution_count": 10,
      "outputs": []
    },
    {
      "cell_type": "code",
      "metadata": {
        "id": "lfYNwPHrkxq4"
      },
      "source": [
        "names = [\"Naive_Bayes\",\"J48\",\"Random_Forest\",\"Adaboost\",\"Bagging\"]\n",
        "classifiers=[\n",
        "             GaussianNB(),\n",
        "                DecisionTreeClassifier(criterion= 'gini',max_depth= 2,min_samples_leaf= 2,min_samples_split= 2),\n",
        "           \n",
        "             RandomForestClassifier(bootstrap= True,max_depth= 80,max_features= 2,min_samples_leaf=3,min_samples_split= 10,n_estimators= 100),\n",
        "            AdaBoostClassifier(DecisionTreeClassifier(max_depth=1,min_samples_leaf= 2,min_samples_split= 4),n_estimators=100),\n",
        "              BaggingClassifier(DecisionTreeClassifier(max_depth= 1),n_estimators = 100, max_features = 0.5,max_samples= 0.05)\n",
        "             ]"
      ],
      "execution_count": 11,
      "outputs": []
    },
    {
      "cell_type": "code",
      "metadata": {
        "id": "VoczoBvXkxnS"
      },
      "source": [
        "from sklearn.model_selection import cross_val_score\n",
        "scores_no_sampling = []\n",
        "for name, clf in zip(names, classifiers):\n",
        "    clf.fit(X_train, y_train)\n",
        "    cross_val_score(estimator=clf,X=X_train,y=y_train,cv=10)\n",
        "    score = clf.score(X_test, y_test)\n",
        "    scores_no_sampling.append(score.mean())"
      ],
      "execution_count": 12,
      "outputs": []
    },
    {
      "cell_type": "code",
      "metadata": {
        "colab": {
          "base_uri": "https://localhost:8080/"
        },
        "id": "I1B9t4KSqPBK",
        "outputId": "a13be0ac-53e6-4791-dcaa-0ba3c03b67e7"
      },
      "source": [
        "scores_no_sampling"
      ],
      "execution_count": 13,
      "outputs": [
        {
          "output_type": "execute_result",
          "data": {
            "text/plain": [
              "[0.88, 0.9, 0.9, 0.9, 0.91]"
            ]
          },
          "metadata": {},
          "execution_count": 13
        }
      ]
    },
    {
      "cell_type": "code",
      "metadata": {
        "id": "MACQJB2Ckxh2"
      },
      "source": [
        "import pandas as pd\n",
        "import seaborn as sns"
      ],
      "execution_count": 14,
      "outputs": []
    },
    {
      "cell_type": "code",
      "metadata": {
        "colab": {
          "base_uri": "https://localhost:8080/",
          "height": 206
        },
        "id": "eDsaubDEkxfN",
        "outputId": "678a4e5d-41e4-4dea-99bb-2cd01de1e13c"
      },
      "source": [
        "result_no_sampling = pd.DataFrame()\n",
        "result_no_sampling['name'] = names\n",
        "result_no_sampling['score'] = scores_no_sampling\n",
        "result_no_sampling"
      ],
      "execution_count": 15,
      "outputs": [
        {
          "output_type": "execute_result",
          "data": {
            "text/plain": [
              "            name  score\n",
              "0    Naive_Bayes   0.88\n",
              "1            J48   0.90\n",
              "2  Random_Forest   0.90\n",
              "3       Adaboost   0.90\n",
              "4        Bagging   0.91"
            ],
            "text/html": [
              "\n",
              "  <div id=\"df-dfe3237c-8fdc-436a-aef8-f9bb5feea864\">\n",
              "    <div class=\"colab-df-container\">\n",
              "      <div>\n",
              "<style scoped>\n",
              "    .dataframe tbody tr th:only-of-type {\n",
              "        vertical-align: middle;\n",
              "    }\n",
              "\n",
              "    .dataframe tbody tr th {\n",
              "        vertical-align: top;\n",
              "    }\n",
              "\n",
              "    .dataframe thead th {\n",
              "        text-align: right;\n",
              "    }\n",
              "</style>\n",
              "<table border=\"1\" class=\"dataframe\">\n",
              "  <thead>\n",
              "    <tr style=\"text-align: right;\">\n",
              "      <th></th>\n",
              "      <th>name</th>\n",
              "      <th>score</th>\n",
              "    </tr>\n",
              "  </thead>\n",
              "  <tbody>\n",
              "    <tr>\n",
              "      <th>0</th>\n",
              "      <td>Naive_Bayes</td>\n",
              "      <td>0.88</td>\n",
              "    </tr>\n",
              "    <tr>\n",
              "      <th>1</th>\n",
              "      <td>J48</td>\n",
              "      <td>0.90</td>\n",
              "    </tr>\n",
              "    <tr>\n",
              "      <th>2</th>\n",
              "      <td>Random_Forest</td>\n",
              "      <td>0.90</td>\n",
              "    </tr>\n",
              "    <tr>\n",
              "      <th>3</th>\n",
              "      <td>Adaboost</td>\n",
              "      <td>0.90</td>\n",
              "    </tr>\n",
              "    <tr>\n",
              "      <th>4</th>\n",
              "      <td>Bagging</td>\n",
              "      <td>0.91</td>\n",
              "    </tr>\n",
              "  </tbody>\n",
              "</table>\n",
              "</div>\n",
              "      <button class=\"colab-df-convert\" onclick=\"convertToInteractive('df-dfe3237c-8fdc-436a-aef8-f9bb5feea864')\"\n",
              "              title=\"Convert this dataframe to an interactive table.\"\n",
              "              style=\"display:none;\">\n",
              "        \n",
              "  <svg xmlns=\"http://www.w3.org/2000/svg\" height=\"24px\"viewBox=\"0 0 24 24\"\n",
              "       width=\"24px\">\n",
              "    <path d=\"M0 0h24v24H0V0z\" fill=\"none\"/>\n",
              "    <path d=\"M18.56 5.44l.94 2.06.94-2.06 2.06-.94-2.06-.94-.94-2.06-.94 2.06-2.06.94zm-11 1L8.5 8.5l.94-2.06 2.06-.94-2.06-.94L8.5 2.5l-.94 2.06-2.06.94zm10 10l.94 2.06.94-2.06 2.06-.94-2.06-.94-.94-2.06-.94 2.06-2.06.94z\"/><path d=\"M17.41 7.96l-1.37-1.37c-.4-.4-.92-.59-1.43-.59-.52 0-1.04.2-1.43.59L10.3 9.45l-7.72 7.72c-.78.78-.78 2.05 0 2.83L4 21.41c.39.39.9.59 1.41.59.51 0 1.02-.2 1.41-.59l7.78-7.78 2.81-2.81c.8-.78.8-2.07 0-2.86zM5.41 20L4 18.59l7.72-7.72 1.47 1.35L5.41 20z\"/>\n",
              "  </svg>\n",
              "      </button>\n",
              "      \n",
              "  <style>\n",
              "    .colab-df-container {\n",
              "      display:flex;\n",
              "      flex-wrap:wrap;\n",
              "      gap: 12px;\n",
              "    }\n",
              "\n",
              "    .colab-df-convert {\n",
              "      background-color: #E8F0FE;\n",
              "      border: none;\n",
              "      border-radius: 50%;\n",
              "      cursor: pointer;\n",
              "      display: none;\n",
              "      fill: #1967D2;\n",
              "      height: 32px;\n",
              "      padding: 0 0 0 0;\n",
              "      width: 32px;\n",
              "    }\n",
              "\n",
              "    .colab-df-convert:hover {\n",
              "      background-color: #E2EBFA;\n",
              "      box-shadow: 0px 1px 2px rgba(60, 64, 67, 0.3), 0px 1px 3px 1px rgba(60, 64, 67, 0.15);\n",
              "      fill: #174EA6;\n",
              "    }\n",
              "\n",
              "    [theme=dark] .colab-df-convert {\n",
              "      background-color: #3B4455;\n",
              "      fill: #D2E3FC;\n",
              "    }\n",
              "\n",
              "    [theme=dark] .colab-df-convert:hover {\n",
              "      background-color: #434B5C;\n",
              "      box-shadow: 0px 1px 3px 1px rgba(0, 0, 0, 0.15);\n",
              "      filter: drop-shadow(0px 1px 2px rgba(0, 0, 0, 0.3));\n",
              "      fill: #FFFFFF;\n",
              "    }\n",
              "  </style>\n",
              "\n",
              "      <script>\n",
              "        const buttonEl =\n",
              "          document.querySelector('#df-dfe3237c-8fdc-436a-aef8-f9bb5feea864 button.colab-df-convert');\n",
              "        buttonEl.style.display =\n",
              "          google.colab.kernel.accessAllowed ? 'block' : 'none';\n",
              "\n",
              "        async function convertToInteractive(key) {\n",
              "          const element = document.querySelector('#df-dfe3237c-8fdc-436a-aef8-f9bb5feea864');\n",
              "          const dataTable =\n",
              "            await google.colab.kernel.invokeFunction('convertToInteractive',\n",
              "                                                     [key], {});\n",
              "          if (!dataTable) return;\n",
              "\n",
              "          const docLinkHtml = 'Like what you see? Visit the ' +\n",
              "            '<a target=\"_blank\" href=https://colab.research.google.com/notebooks/data_table.ipynb>data table notebook</a>'\n",
              "            + ' to learn more about interactive tables.';\n",
              "          element.innerHTML = '';\n",
              "          dataTable['output_type'] = 'display_data';\n",
              "          await google.colab.output.renderOutput(dataTable, element);\n",
              "          const docLink = document.createElement('div');\n",
              "          docLink.innerHTML = docLinkHtml;\n",
              "          element.appendChild(docLink);\n",
              "        }\n",
              "      </script>\n",
              "    </div>\n",
              "  </div>\n",
              "  "
            ]
          },
          "metadata": {},
          "execution_count": 15
        }
      ]
    },
    {
      "cell_type": "code",
      "metadata": {
        "colab": {
          "base_uri": "https://localhost:8080/",
          "height": 285
        },
        "id": "H27NM3fskxaB",
        "outputId": "c8417fa4-0551-4644-e0f0-5a54d0d36e98"
      },
      "source": [
        "sns.set(style=\"whitegrid\")\n",
        "ax = sns.barplot(y=\"name\", x=\"score\", data=result_no_sampling)"
      ],
      "execution_count": 16,
      "outputs": [
        {
          "output_type": "display_data",
          "data": {
            "text/plain": [
              "<Figure size 432x288 with 1 Axes>"
            ],
            "image/png": "[encoded data removed]"
          },
          "metadata": {}
        }
      ]
    },
    {
      "cell_type": "code",
      "metadata": {
        "id": "Ljg8sfJlug9l"
      },
      "source": [
        "from imblearn.over_sampling import SMOTE\n",
        "smote = SMOTE(k_neighbors=5)\n",
        "X_train_smote, y_train_smote = smote.fit_resample(X_train.astype('float'),y_train)"
      ],
      "execution_count": 21,
      "outputs": []
    },
    {
      "cell_type": "code",
      "metadata": {
        "colab": {
          "base_uri": "https://localhost:8080/"
        },
        "id": "gIwR6bwWug6N",
        "outputId": "e10fedf7-54d6-4a8c-dd36-c840c8bf98b0"
      },
      "source": [
        "from collections import Counter\n",
        "print(\"Before SMOTE :\" , Counter(y_train))\n",
        "print(\"After SMOTE :\" , Counter(y_train_smote))"
      ],
      "execution_count": 22,
      "outputs": [
        {
          "output_type": "stream",
          "name": "stdout",
          "text": [
            "Before SMOTE : Counter({False: 359, True: 39})\n",
            "After SMOTE : Counter({False: 359, True: 359})\n"
          ]
        }
      ]
    },
    {
      "cell_type": "code",
      "metadata": {
        "id": "ZFz9-BWgug3l"
      },
      "source": [
        "scores_smote = []\n",
        "for name, clf in zip(names, classifiers):\n",
        "    clf.fit(X_train_smote, y_train_smote)\n",
        "    \n",
        "    cross_val_score(estimator=clf,X=X_train_smote,y=y_train_smote,cv=10)\n",
        "    score = clf.score(X_test, y_test)\n",
        "    scores_smote.append(score)"
      ],
      "execution_count": 23,
      "outputs": []
    },
    {
      "cell_type": "code",
      "metadata": {
        "colab": {
          "base_uri": "https://localhost:8080/"
        },
        "id": "ioqcSqXkug1H",
        "outputId": "2ad8bbea-56b4-43b9-8133-3416ccc8818f"
      },
      "source": [
        "scores_smote"
      ],
      "execution_count": 24,
      "outputs": [
        {
          "output_type": "execute_result",
          "data": {
            "text/plain": [
              "[0.81, 0.77, 0.86, 0.83, 0.75]"
            ]
          },
          "metadata": {},
          "execution_count": 24
        }
      ]
    },
    {
      "cell_type": "code",
      "metadata": {
        "colab": {
          "base_uri": "https://localhost:8080/",
          "height": 206
        },
        "id": "5sR5_tSpugyW",
        "outputId": "1468b8dd-ba42-47b1-d38c-57f77ab2717c"
      },
      "source": [
        "result_smote = pd.DataFrame()\n",
        "result_smote['name'] = names\n",
        "result_smote['score'] = scores_smote\n",
        "result_smote"
      ],
      "execution_count": 25,
      "outputs": [
        {
          "output_type": "execute_result",
          "data": {
            "text/plain": [
              "            name  score\n",
              "0    Naive_Bayes   0.81\n",
              "1            J48   0.77\n",
              "2  Random_Forest   0.86\n",
              "3       Adaboost   0.83\n",
              "4        Bagging   0.75"
            ],
            "text/html": [
              "\n",
              "  <div id=\"df-5d7ecc6e-85ba-4af0-a9aa-c5972f608903\">\n",
              "    <div class=\"colab-df-container\">\n",
              "      <div>\n",
              "<style scoped>\n",
              "    .dataframe tbody tr th:only-of-type {\n",
              "        vertical-align: middle;\n",
              "    }\n",
              "\n",
              "    .dataframe tbody tr th {\n",
              "        vertical-align: top;\n",
              "    }\n",
              "\n",
              "    .dataframe thead th {\n",
              "        text-align: right;\n",
              "    }\n",
              "</style>\n",
              "<table border=\"1\" class=\"dataframe\">\n",
              "  <thead>\n",
              "    <tr style=\"text-align: right;\">\n",
              "      <th></th>\n",
              "      <th>name</th>\n",
              "      <th>score</th>\n",
              "    </tr>\n",
              "  </thead>\n",
              "  <tbody>\n",
              "    <tr>\n",
              "      <th>0</th>\n",
              "      <td>Naive_Bayes</td>\n",
              "      <td>0.81</td>\n",
              "    </tr>\n",
              "    <tr>\n",
              "      <th>1</th>\n",
              "      <td>J48</td>\n",
              "      <td>0.77</td>\n",
              "    </tr>\n",
              "    <tr>\n",
              "      <th>2</th>\n",
              "      <td>Random_Forest</td>\n",
              "      <td>0.86</td>\n",
              "    </tr>\n",
              "    <tr>\n",
              "      <th>3</th>\n",
              "      <td>Adaboost</td>\n",
              "      <td>0.83</td>\n",
              "    </tr>\n",
              "    <tr>\n",
              "      <th>4</th>\n",
              "      <td>Bagging</td>\n",
              "      <td>0.75</td>\n",
              "    </tr>\n",
              "  </tbody>\n",
              "</table>\n",
              "</div>\n",
              "      <button class=\"colab-df-convert\" onclick=\"convertToInteractive('df-5d7ecc6e-85ba-4af0-a9aa-c5972f608903')\"\n",
              "              title=\"Convert this dataframe to an interactive table.\"\n",
              "              style=\"display:none;\">\n",
              "        \n",
              "  <svg xmlns=\"http://www.w3.org/2000/svg\" height=\"24px\"viewBox=\"0 0 24 24\"\n",
              "       width=\"24px\">\n",
              "    <path d=\"M0 0h24v24H0V0z\" fill=\"none\"/>\n",
              "    <path d=\"M18.56 5.44l.94 2.06.94-2.06 2.06-.94-2.06-.94-.94-2.06-.94 2.06-2.06.94zm-11 1L8.5 8.5l.94-2.06 2.06-.94-2.06-.94L8.5 2.5l-.94 2.06-2.06.94zm10 10l.94 2.06.94-2.06 2.06-.94-2.06-.94-.94-2.06-.94 2.06-2.06.94z\"/><path d=\"M17.41 7.96l-1.37-1.37c-.4-.4-.92-.59-1.43-.59-.52 0-1.04.2-1.43.59L10.3 9.45l-7.72 7.72c-.78.78-.78 2.05 0 2.83L4 21.41c.39.39.9.59 1.41.59.51 0 1.02-.2 1.41-.59l7.78-7.78 2.81-2.81c.8-.78.8-2.07 0-2.86zM5.41 20L4 18.59l7.72-7.72 1.47 1.35L5.41 20z\"/>\n",
              "  </svg>\n",
              "      </button>\n",
              "      \n",
              "  <style>\n",
              "    .colab-df-container {\n",
              "      display:flex;\n",
              "      flex-wrap:wrap;\n",
              "      gap: 12px;\n",
              "    }\n",
              "\n",
              "    .colab-df-convert {\n",
              "      background-color: #E8F0FE;\n",
              "      border: none;\n",
              "      border-radius: 50%;\n",
              "      cursor: pointer;\n",
              "      display: none;\n",
              "      fill: #1967D2;\n",
              "      height: 32px;\n",
              "      padding: 0 0 0 0;\n",
              "      width: 32px;\n",
              "    }\n",
              "\n",
              "    .colab-df-convert:hover {\n",
              "      background-color: #E2EBFA;\n",
              "      box-shadow: 0px 1px 2px rgba(60, 64, 67, 0.3), 0px 1px 3px 1px rgba(60, 64, 67, 0.15);\n",
              "      fill: #174EA6;\n",
              "    }\n",
              "\n",
              "    [theme=dark] .colab-df-convert {\n",
              "      background-color: #3B4455;\n",
              "      fill: #D2E3FC;\n",
              "    }\n",
              "\n",
              "    [theme=dark] .colab-df-convert:hover {\n",
              "      background-color: #434B5C;\n",
              "      box-shadow: 0px 1px 3px 1px rgba(0, 0, 0, 0.15);\n",
              "      filter: drop-shadow(0px 1px 2px rgba(0, 0, 0, 0.3));\n",
              "      fill: #FFFFFF;\n",
              "    }\n",
              "  </style>\n",
              "\n",
              "      <script>\n",
              "        const buttonEl =\n",
              "          document.querySelector('#df-5d7ecc6e-85ba-4af0-a9aa-c5972f608903 button.colab-df-convert');\n",
              "        buttonEl.style.display =\n",
              "          google.colab.kernel.accessAllowed ? 'block' : 'none';\n",
              "\n",
              "        async function convertToInteractive(key) {\n",
              "          const element = document.querySelector('#df-5d7ecc6e-85ba-4af0-a9aa-c5972f608903');\n",
              "          const dataTable =\n",
              "            await google.colab.kernel.invokeFunction('convertToInteractive',\n",
              "                                                     [key], {});\n",
              "          if (!dataTable) return;\n",
              "\n",
              "          const docLinkHtml = 'Like what you see? Visit the ' +\n",
              "            '<a target=\"_blank\" href=https://colab.research.google.com/notebooks/data_table.ipynb>data table notebook</a>'\n",
              "            + ' to learn more about interactive tables.';\n",
              "          element.innerHTML = '';\n",
              "          dataTable['output_type'] = 'display_data';\n",
              "          await google.colab.output.renderOutput(dataTable, element);\n",
              "          const docLink = document.createElement('div');\n",
              "          docLink.innerHTML = docLinkHtml;\n",
              "          element.appendChild(docLink);\n",
              "        }\n",
              "      </script>\n",
              "    </div>\n",
              "  </div>\n",
              "  "
            ]
          },
          "metadata": {},
          "execution_count": 25
        }
      ]
    },
    {
      "cell_type": "code",
      "metadata": {
        "colab": {
          "base_uri": "https://localhost:8080/",
          "height": 285
        },
        "id": "o8iFJ4g5ugvp",
        "outputId": "77e88989-726e-4d3f-9e49-a50a3b037e96"
      },
      "source": [
        "sns.set(style=\"whitegrid\")\n",
        "ax = sns.barplot(y=\"name\", x=\"score\", data=result_smote)"
      ],
      "execution_count": 26,
      "outputs": [
        {
          "output_type": "display_data",
          "data": {
            "text/plain": [
              "<Figure size 432x288 with 1 Axes>"
            ],
            "image/png": "[encoded data removed]"
          },
          "metadata": {}
        }
      ]
    },
    {
      "cell_type": "code",
      "metadata": {
        "id": "ZheTerYdugtC"
      },
      "source": [
        "from imblearn.over_sampling import ADASYN\n",
        "ada = ADASYN(sampling_strategy='minority',random_state=420,n_neighbors=5)\n",
        "X_train_ada, y_train_ada = ada.fit_resample(X_train.astype('float'),y_train)"
      ],
      "execution_count": 20,
      "outputs": []
    },
    {
      "cell_type": "code",
      "metadata": {
        "colab": {
          "base_uri": "https://localhost:8080/"
        },
        "id": "a-qtxkvPzFwe",
        "outputId": "7d7cd7d6-df9c-40cc-94d9-1b43c1b98356"
      },
      "source": [
        "from collections import Counter\n",
        "print(\"Before ADASYN :\" , Counter(y_train))\n",
        "print(\"After ADASYN :\" , Counter(y_train_ada))"
      ],
      "execution_count": 27,
      "outputs": [
        {
          "output_type": "stream",
          "name": "stdout",
          "text": [
            "Before ADASYN : Counter({False: 359, True: 39})\n",
            "After ADASYN : Counter({True: 373, False: 359})\n"
          ]
        }
      ]
    },
    {
      "cell_type": "code",
      "metadata": {
        "id": "V1M4blfIzNKe"
      },
      "source": [
        "scores_Adasyn = []\n",
        "for name, clf in zip(names, classifiers):\n",
        "    clf.fit(X_train_ada, y_train_ada)\n",
        "    \n",
        "    cross_val_score(estimator=clf,X=X_train_ada,y=y_train_ada,cv=10)\n",
        "    score = clf.score(X_test, y_test)\n",
        "    scores_Adasyn.append(score)"
      ],
      "execution_count": 28,
      "outputs": []
    },
    {
      "cell_type": "code",
      "metadata": {
        "colab": {
          "base_uri": "https://localhost:8080/"
        },
        "id": "ycKRX3frzNHB",
        "outputId": "9234ea81-e104-4475-dc7c-cae03e86917b"
      },
      "source": [
        "scores_Adasyn"
      ],
      "execution_count": 29,
      "outputs": [
        {
          "output_type": "execute_result",
          "data": {
            "text/plain": [
              "[0.83, 0.63, 0.83, 0.83, 0.66]"
            ]
          },
          "metadata": {},
          "execution_count": 29
        }
      ]
    },
    {
      "cell_type": "code",
      "metadata": {
        "colab": {
          "base_uri": "https://localhost:8080/",
          "height": 206
        },
        "id": "-9MOOYnIzNEQ",
        "outputId": "95f80af4-3d92-41d8-dba4-f3db680da643"
      },
      "source": [
        "result_Adasyn = pd.DataFrame()\n",
        "result_Adasyn['name'] = names\n",
        "result_Adasyn['score'] = scores_Adasyn\n",
        "result_Adasyn"
      ],
      "execution_count": 30,
      "outputs": [
        {
          "output_type": "execute_result",
          "data": {
            "text/plain": [
              "            name  score\n",
              "0    Naive_Bayes   0.83\n",
              "1            J48   0.63\n",
              "2  Random_Forest   0.83\n",
              "3       Adaboost   0.83\n",
              "4        Bagging   0.66"
            ],
            "text/html": [
              "\n",
              "  <div id=\"df-48dac7f1-e1de-4a31-894f-d67f3cb08270\">\n",
              "    <div class=\"colab-df-container\">\n",
              "      <div>\n",
              "<style scoped>\n",
              "    .dataframe tbody tr th:only-of-type {\n",
              "        vertical-align: middle;\n",
              "    }\n",
              "\n",
              "    .dataframe tbody tr th {\n",
              "        vertical-align: top;\n",
              "    }\n",
              "\n",
              "    .dataframe thead th {\n",
              "        text-align: right;\n",
              "    }\n",
              "</style>\n",
              "<table border=\"1\" class=\"dataframe\">\n",
              "  <thead>\n",
              "    <tr style=\"text-align: right;\">\n",
              "      <th></th>\n",
              "      <th>name</th>\n",
              "      <th>score</th>\n",
              "    </tr>\n",
              "  </thead>\n",
              "  <tbody>\n",
              "    <tr>\n",
              "      <th>0</th>\n",
              "      <td>Naive_Bayes</td>\n",
              "      <td>0.83</td>\n",
              "    </tr>\n",
              "    <tr>\n",
              "      <th>1</th>\n",
              "      <td>J48</td>\n",
              "      <td>0.63</td>\n",
              "    </tr>\n",
              "    <tr>\n",
              "      <th>2</th>\n",
              "      <td>Random_Forest</td>\n",
              "      <td>0.83</td>\n",
              "    </tr>\n",
              "    <tr>\n",
              "      <th>3</th>\n",
              "      <td>Adaboost</td>\n",
              "      <td>0.83</td>\n",
              "    </tr>\n",
              "    <tr>\n",
              "      <th>4</th>\n",
              "      <td>Bagging</td>\n",
              "      <td>0.66</td>\n",
              "    </tr>\n",
              "  </tbody>\n",
              "</table>\n",
              "</div>\n",
              "      <button class=\"colab-df-convert\" onclick=\"convertToInteractive('df-48dac7f1-e1de-4a31-894f-d67f3cb08270')\"\n",
              "              title=\"Convert this dataframe to an interactive table.\"\n",
              "              style=\"display:none;\">\n",
              "        \n",
              "  <svg xmlns=\"http://www.w3.org/2000/svg\" height=\"24px\"viewBox=\"0 0 24 24\"\n",
              "       width=\"24px\">\n",
              "    <path d=\"M0 0h24v24H0V0z\" fill=\"none\"/>\n",
              "    <path d=\"M18.56 5.44l.94 2.06.94-2.06 2.06-.94-2.06-.94-.94-2.06-.94 2.06-2.06.94zm-11 1L8.5 8.5l.94-2.06 2.06-.94-2.06-.94L8.5 2.5l-.94 2.06-2.06.94zm10 10l.94 2.06.94-2.06 2.06-.94-2.06-.94-.94-2.06-.94 2.06-2.06.94z\"/><path d=\"M17.41 7.96l-1.37-1.37c-.4-.4-.92-.59-1.43-.59-.52 0-1.04.2-1.43.59L10.3 9.45l-7.72 7.72c-.78.78-.78 2.05 0 2.83L4 21.41c.39.39.9.59 1.41.59.51 0 1.02-.2 1.41-.59l7.78-7.78 2.81-2.81c.8-.78.8-2.07 0-2.86zM5.41 20L4 18.59l7.72-7.72 1.47 1.35L5.41 20z\"/>\n",
              "  </svg>\n",
              "      </button>\n",
              "      \n",
              "  <style>\n",
              "    .colab-df-container {\n",
              "      display:flex;\n",
              "      flex-wrap:wrap;\n",
              "      gap: 12px;\n",
              "    }\n",
              "\n",
              "    .colab-df-convert {\n",
              "      background-color: #E8F0FE;\n",
              "      border: none;\n",
              "      border-radius: 50%;\n",
              "      cursor: pointer;\n",
              "      display: none;\n",
              "      fill: #1967D2;\n",
              "      height: 32px;\n",
              "      padding: 0 0 0 0;\n",
              "      width: 32px;\n",
              "    }\n",
              "\n",
              "    .colab-df-convert:hover {\n",
              "      background-color: #E2EBFA;\n",
              "      box-shadow: 0px 1px 2px rgba(60, 64, 67, 0.3), 0px 1px 3px 1px rgba(60, 64, 67, 0.15);\n",
              "      fill: #174EA6;\n",
              "    }\n",
              "\n",
              "    [theme=dark] .colab-df-convert {\n",
              "      background-color: #3B4455;\n",
              "      fill: #D2E3FC;\n",
              "    }\n",
              "\n",
              "    [theme=dark] .colab-df-convert:hover {\n",
              "      background-color: #434B5C;\n",
              "      box-shadow: 0px 1px 3px 1px rgba(0, 0, 0, 0.15);\n",
              "      filter: drop-shadow(0px 1px 2px rgba(0, 0, 0, 0.3));\n",
              "      fill: #FFFFFF;\n",
              "    }\n",
              "  </style>\n",
              "\n",
              "      <script>\n",
              "        const buttonEl =\n",
              "          document.querySelector('#df-48dac7f1-e1de-4a31-894f-d67f3cb08270 button.colab-df-convert');\n",
              "        buttonEl.style.display =\n",
              "          google.colab.kernel.accessAllowed ? 'block' : 'none';\n",
              "\n",
              "        async function convertToInteractive(key) {\n",
              "          const element = document.querySelector('#df-48dac7f1-e1de-4a31-894f-d67f3cb08270');\n",
              "          const dataTable =\n",
              "            await google.colab.kernel.invokeFunction('convertToInteractive',\n",
              "                                                     [key], {});\n",
              "          if (!dataTable) return;\n",
              "\n",
              "          const docLinkHtml = 'Like what you see? Visit the ' +\n",
              "            '<a target=\"_blank\" href=https://colab.research.google.com/notebooks/data_table.ipynb>data table notebook</a>'\n",
              "            + ' to learn more about interactive tables.';\n",
              "          element.innerHTML = '';\n",
              "          dataTable['output_type'] = 'display_data';\n",
              "          await google.colab.output.renderOutput(dataTable, element);\n",
              "          const docLink = document.createElement('div');\n",
              "          docLink.innerHTML = docLinkHtml;\n",
              "          element.appendChild(docLink);\n",
              "        }\n",
              "      </script>\n",
              "    </div>\n",
              "  </div>\n",
              "  "
            ]
          },
          "metadata": {},
          "execution_count": 30
        }
      ]
    },
    {
      "cell_type": "code",
      "metadata": {
        "colab": {
          "base_uri": "https://localhost:8080/",
          "height": 285
        },
        "id": "Rw7WXnOZzw3B",
        "outputId": "351182f7-b8a2-4bbe-fa1c-e80ec6f691f9"
      },
      "source": [
        "sns.set(style=\"whitegrid\")\n",
        "ax = sns.barplot(y=\"name\", x=\"score\", data=result_Adasyn)"
      ],
      "execution_count": 31,
      "outputs": [
        {
          "output_type": "display_data",
          "data": {
            "text/plain": [
              "<Figure size 432x288 with 1 Axes>"
            ],
            "image/png": "[encoded data removed]"
          },
          "metadata": {}
        }
      ]
    },
    {
      "cell_type": "code",
      "metadata": {
        "id": "dP1Ezstizwzn"
      },
      "source": [
        "from imblearn.over_sampling import BorderlineSMOTE\n",
        "slsm = BorderlineSMOTE(sampling_strategy='minority',random_state=420)\n",
        "X_train_slsm, y_train_slsm = slsm.fit_resample(X_train.astype('float'),y_train)\n"
      ],
      "execution_count": 33,
      "outputs": []
    },
    {
      "cell_type": "code",
      "metadata": {
        "colab": {
          "base_uri": "https://localhost:8080/"
        },
        "id": "d7fczWPnzwxH",
        "outputId": "502de4d8-7a04-4641-ca38-d93c6ab06605"
      },
      "source": [
        "from collections import Counter\n",
        "print(\"Before SLSM :\" , Counter(y_train))\n",
        "print(\"After SLSM :\" , Counter(y_train_slsm))"
      ],
      "execution_count": 34,
      "outputs": [
        {
          "output_type": "stream",
          "name": "stdout",
          "text": [
            "Before SLSM : Counter({False: 359, True: 39})\n",
            "After SLSM : Counter({False: 359, True: 359})\n"
          ]
        }
      ]
    },
    {
      "cell_type": "code",
      "metadata": {
        "id": "Is2cXXvYzwvN"
      },
      "source": [
        "scores_slsm = []\n",
        "for name, clf in zip(names, classifiers):\n",
        "    clf.fit(X_train_slsm, y_train_slsm)\n",
        "    \n",
        "    cross_val_score(estimator=clf,X=X_train_slsm,y=y_train_slsm,cv=10)\n",
        "    score = clf.score(X_test, y_test)\n",
        "    scores_slsm.append(score)"
      ],
      "execution_count": 35,
      "outputs": []
    },
    {
      "cell_type": "code",
      "metadata": {
        "colab": {
          "base_uri": "https://localhost:8080/"
        },
        "id": "1agY-orzzwsq",
        "outputId": "d538bdbf-4c81-4e00-8834-4eafe81e2dad"
      },
      "source": [
        "scores_slsm"
      ],
      "execution_count": 36,
      "outputs": [
        {
          "output_type": "execute_result",
          "data": {
            "text/plain": [
              "[0.85, 0.79, 0.85, 0.9, 0.74]"
            ]
          },
          "metadata": {},
          "execution_count": 36
        }
      ]
    },
    {
      "cell_type": "code",
      "metadata": {
        "colab": {
          "base_uri": "https://localhost:8080/",
          "height": 206
        },
        "id": "lvVPDXnyOF1L",
        "outputId": "7ee6cf13-2e61-4307-a460-6eede0a78c14"
      },
      "source": [
        "result_slsm = pd.DataFrame()\n",
        "result_slsm['name'] = names\n",
        "result_slsm['score'] = scores_slsm\n",
        "result_slsm"
      ],
      "execution_count": 37,
      "outputs": [
        {
          "output_type": "execute_result",
          "data": {
            "text/plain": [
              "            name  score\n",
              "0    Naive_Bayes   0.85\n",
              "1            J48   0.79\n",
              "2  Random_Forest   0.85\n",
              "3       Adaboost   0.90\n",
              "4        Bagging   0.74"
            ],
            "text/html": [
              "\n",
              "  <div id=\"df-07d8c440-ac2d-4499-abeb-680304a666ac\">\n",
              "    <div class=\"colab-df-container\">\n",
              "      <div>\n",
              "<style scoped>\n",
              "    .dataframe tbody tr th:only-of-type {\n",
              "        vertical-align: middle;\n",
              "    }\n",
              "\n",
              "    .dataframe tbody tr th {\n",
              "        vertical-align: top;\n",
              "    }\n",
              "\n",
              "    .dataframe thead th {\n",
              "        text-align: right;\n",
              "    }\n",
              "</style>\n",
              "<table border=\"1\" class=\"dataframe\">\n",
              "  <thead>\n",
              "    <tr style=\"text-align: right;\">\n",
              "      <th></th>\n",
              "      <th>name</th>\n",
              "      <th>score</th>\n",
              "    </tr>\n",
              "  </thead>\n",
              "  <tbody>\n",
              "    <tr>\n",
              "      <th>0</th>\n",
              "      <td>Naive_Bayes</td>\n",
              "      <td>0.85</td>\n",
              "    </tr>\n",
              "    <tr>\n",
              "      <th>1</th>\n",
              "      <td>J48</td>\n",
              "      <td>0.79</td>\n",
              "    </tr>\n",
              "    <tr>\n",
              "      <th>2</th>\n",
              "      <td>Random_Forest</td>\n",
              "      <td>0.85</td>\n",
              "    </tr>\n",
              "    <tr>\n",
              "      <th>3</th>\n",
              "      <td>Adaboost</td>\n",
              "      <td>0.90</td>\n",
              "    </tr>\n",
              "    <tr>\n",
              "      <th>4</th>\n",
              "      <td>Bagging</td>\n",
              "      <td>0.74</td>\n",
              "    </tr>\n",
              "  </tbody>\n",
              "</table>\n",
              "</div>\n",
              "      <button class=\"colab-df-convert\" onclick=\"convertToInteractive('df-07d8c440-ac2d-4499-abeb-680304a666ac')\"\n",
              "              title=\"Convert this dataframe to an interactive table.\"\n",
              "              style=\"display:none;\">\n",
              "        \n",
              "  <svg xmlns=\"http://www.w3.org/2000/svg\" height=\"24px\"viewBox=\"0 0 24 24\"\n",
              "       width=\"24px\">\n",
              "    <path d=\"M0 0h24v24H0V0z\" fill=\"none\"/>\n",
              "    <path d=\"M18.56 5.44l.94 2.06.94-2.06 2.06-.94-2.06-.94-.94-2.06-.94 2.06-2.06.94zm-11 1L8.5 8.5l.94-2.06 2.06-.94-2.06-.94L8.5 2.5l-.94 2.06-2.06.94zm10 10l.94 2.06.94-2.06 2.06-.94-2.06-.94-.94-2.06-.94 2.06-2.06.94z\"/><path d=\"M17.41 7.96l-1.37-1.37c-.4-.4-.92-.59-1.43-.59-.52 0-1.04.2-1.43.59L10.3 9.45l-7.72 7.72c-.78.78-.78 2.05 0 2.83L4 21.41c.39.39.9.59 1.41.59.51 0 1.02-.2 1.41-.59l7.78-7.78 2.81-2.81c.8-.78.8-2.07 0-2.86zM5.41 20L4 18.59l7.72-7.72 1.47 1.35L5.41 20z\"/>\n",
              "  </svg>\n",
              "      </button>\n",
              "      \n",
              "  <style>\n",
              "    .colab-df-container {\n",
              "      display:flex;\n",
              "      flex-wrap:wrap;\n",
              "      gap: 12px;\n",
              "    }\n",
              "\n",
              "    .colab-df-convert {\n",
              "      background-color: #E8F0FE;\n",
              "      border: none;\n",
              "      border-radius: 50%;\n",
              "      cursor: pointer;\n",
              "      display: none;\n",
              "      fill: #1967D2;\n",
              "      height: 32px;\n",
              "      padding: 0 0 0 0;\n",
              "      width: 32px;\n",
              "    }\n",
              "\n",
              "    .colab-df-convert:hover {\n",
              "      background-color: #E2EBFA;\n",
              "      box-shadow: 0px 1px 2px rgba(60, 64, 67, 0.3), 0px 1px 3px 1px rgba(60, 64, 67, 0.15);\n",
              "      fill: #174EA6;\n",
              "    }\n",
              "\n",
              "    [theme=dark] .colab-df-convert {\n",
              "      background-color: #3B4455;\n",
              "      fill: #D2E3FC;\n",
              "    }\n",
              "\n",
              "    [theme=dark] .colab-df-convert:hover {\n",
              "      background-color: #434B5C;\n",
              "      box-shadow: 0px 1px 3px 1px rgba(0, 0, 0, 0.15);\n",
              "      filter: drop-shadow(0px 1px 2px rgba(0, 0, 0, 0.3));\n",
              "      fill: #FFFFFF;\n",
              "    }\n",
              "  </style>\n",
              "\n",
              "      <script>\n",
              "        const buttonEl =\n",
              "          document.querySelector('#df-07d8c440-ac2d-4499-abeb-680304a666ac button.colab-df-convert');\n",
              "        buttonEl.style.display =\n",
              "          google.colab.kernel.accessAllowed ? 'block' : 'none';\n",
              "\n",
              "        async function convertToInteractive(key) {\n",
              "          const element = document.querySelector('#df-07d8c440-ac2d-4499-abeb-680304a666ac');\n",
              "          const dataTable =\n",
              "            await google.colab.kernel.invokeFunction('convertToInteractive',\n",
              "                                                     [key], {});\n",
              "          if (!dataTable) return;\n",
              "\n",
              "          const docLinkHtml = 'Like what you see? Visit the ' +\n",
              "            '<a target=\"_blank\" href=https://colab.research.google.com/notebooks/data_table.ipynb>data table notebook</a>'\n",
              "            + ' to learn more about interactive tables.';\n",
              "          element.innerHTML = '';\n",
              "          dataTable['output_type'] = 'display_data';\n",
              "          await google.colab.output.renderOutput(dataTable, element);\n",
              "          const docLink = document.createElement('div');\n",
              "          docLink.innerHTML = docLinkHtml;\n",
              "          element.appendChild(docLink);\n",
              "        }\n",
              "      </script>\n",
              "    </div>\n",
              "  </div>\n",
              "  "
            ]
          },
          "metadata": {},
          "execution_count": 37
        }
      ]
    },
    {
      "cell_type": "code",
      "metadata": {
        "colab": {
          "base_uri": "https://localhost:8080/",
          "height": 285
        },
        "id": "y8Mh6D4SN-_K",
        "outputId": "4ede90dd-9e60-4bbc-888a-a6b9b4545c51"
      },
      "source": [
        "sns.set(style=\"whitegrid\")\n",
        "ax = sns.barplot(y=\"name\", x=\"score\", data=result_slsm)"
      ],
      "execution_count": 38,
      "outputs": [
        {
          "output_type": "display_data",
          "data": {
            "text/plain": [
              "<Figure size 432x288 with 1 Axes>"
            ],
            "image/png": "[encoded data removed]"
          },
          "metadata": {}
        }
      ]
    },
    {
      "cell_type": "code",
      "metadata": {
        "id": "VTILocWuN-7-"
      },
      "source": [
        "\n",
        "from imblearn.over_sampling import RandomOverSampler"
      ],
      "execution_count": 39,
      "outputs": []
    },
    {
      "cell_type": "code",
      "metadata": {
        "id": "FE3eiJgtN-5D"
      },
      "source": [
        "rdos = RandomOverSampler(sampling_strategy='minority')\n",
        "X_train_rdos, y_train_rdos = rdos.fit_resample(X_train.astype('float'),y_train)"
      ],
      "execution_count": 41,
      "outputs": []
    },
    {
      "cell_type": "code",
      "metadata": {
        "colab": {
          "base_uri": "https://localhost:8080/"
        },
        "id": "9I2PbCEJN-2N",
        "outputId": "9a01c351-faa5-46b1-cc81-b81cc3f460c4"
      },
      "source": [
        "from collections import Counter\n",
        "print(\"Before rdos :\" , Counter(y_train))\n",
        "print(\"After rdos :\" , Counter(y_train_rdos))"
      ],
      "execution_count": 42,
      "outputs": [
        {
          "output_type": "stream",
          "name": "stdout",
          "text": [
            "Before rdos : Counter({False: 359, True: 39})\n",
            "After rdos : Counter({False: 359, True: 359})\n"
          ]
        }
      ]
    },
    {
      "cell_type": "code",
      "metadata": {
        "id": "lnDkACt3oE2j"
      },
      "source": [
        "from sklearn.model_selection import cross_val_score\n",
        "scores_rdos = []\n",
        "for name, clf in zip(names, classifiers):\n",
        "    clf.fit(X_train_rdos, y_train_rdos)\n",
        "    \n",
        "    cross_val_score(estimator=clf,X=X_train_rdos,y=y_train_rdos,cv=10)\n",
        "    score = clf.score(X_test, y_test)\n",
        "    scores_rdos.append(score)"
      ],
      "execution_count": 43,
      "outputs": []
    },
    {
      "cell_type": "code",
      "metadata": {
        "colab": {
          "base_uri": "https://localhost:8080/"
        },
        "id": "aJA3JjtSoE0H",
        "outputId": "5b4d3475-3d08-48ca-bdad-c57740ad7d62"
      },
      "source": [
        "scores_rdos"
      ],
      "execution_count": 44,
      "outputs": [
        {
          "output_type": "execute_result",
          "data": {
            "text/plain": [
              "[0.86, 0.7, 0.87, 0.86, 0.72]"
            ]
          },
          "metadata": {},
          "execution_count": 44
        }
      ]
    },
    {
      "cell_type": "code",
      "metadata": {
        "colab": {
          "base_uri": "https://localhost:8080/",
          "height": 206
        },
        "id": "BY5aVVIwoExD",
        "outputId": "18b01c6c-bdf5-4bec-c8bf-ba81f2baf952"
      },
      "source": [
        "result_rdos = pd.DataFrame()\n",
        "result_rdos['name'] = names\n",
        "result_rdos['score'] = scores_rdos\n",
        "result_rdos"
      ],
      "execution_count": 45,
      "outputs": [
        {
          "output_type": "execute_result",
          "data": {
            "text/plain": [
              "            name  score\n",
              "0    Naive_Bayes   0.86\n",
              "1            J48   0.70\n",
              "2  Random_Forest   0.87\n",
              "3       Adaboost   0.86\n",
              "4        Bagging   0.72"
            ],
            "text/html": [
              "\n",
              "  <div id=\"df-e87c70ee-3f2b-478b-9ad2-3b319f76b2da\">\n",
              "    <div class=\"colab-df-container\">\n",
              "      <div>\n",
              "<style scoped>\n",
              "    .dataframe tbody tr th:only-of-type {\n",
              "        vertical-align: middle;\n",
              "    }\n",
              "\n",
              "    .dataframe tbody tr th {\n",
              "        vertical-align: top;\n",
              "    }\n",
              "\n",
              "    .dataframe thead th {\n",
              "        text-align: right;\n",
              "    }\n",
              "</style>\n",
              "<table border=\"1\" class=\"dataframe\">\n",
              "  <thead>\n",
              "    <tr style=\"text-align: right;\">\n",
              "      <th></th>\n",
              "      <th>name</th>\n",
              "      <th>score</th>\n",
              "    </tr>\n",
              "  </thead>\n",
              "  <tbody>\n",
              "    <tr>\n",
              "      <th>0</th>\n",
              "      <td>Naive_Bayes</td>\n",
              "      <td>0.86</td>\n",
              "    </tr>\n",
              "    <tr>\n",
              "      <th>1</th>\n",
              "      <td>J48</td>\n",
              "      <td>0.70</td>\n",
              "    </tr>\n",
              "    <tr>\n",
              "      <th>2</th>\n",
              "      <td>Random_Forest</td>\n",
              "      <td>0.87</td>\n",
              "    </tr>\n",
              "    <tr>\n",
              "      <th>3</th>\n",
              "      <td>Adaboost</td>\n",
              "      <td>0.86</td>\n",
              "    </tr>\n",
              "    <tr>\n",
              "      <th>4</th>\n",
              "      <td>Bagging</td>\n",
              "      <td>0.72</td>\n",
              "    </tr>\n",
              "  </tbody>\n",
              "</table>\n",
              "</div>\n",
              "      <button class=\"colab-df-convert\" onclick=\"convertToInteractive('df-e87c70ee-3f2b-478b-9ad2-3b319f76b2da')\"\n",
              "              title=\"Convert this dataframe to an interactive table.\"\n",
              "              style=\"display:none;\">\n",
              "        \n",
              "  <svg xmlns=\"http://www.w3.org/2000/svg\" height=\"24px\"viewBox=\"0 0 24 24\"\n",
              "       width=\"24px\">\n",
              "    <path d=\"M0 0h24v24H0V0z\" fill=\"none\"/>\n",
              "    <path d=\"M18.56 5.44l.94 2.06.94-2.06 2.06-.94-2.06-.94-.94-2.06-.94 2.06-2.06.94zm-11 1L8.5 8.5l.94-2.06 2.06-.94-2.06-.94L8.5 2.5l-.94 2.06-2.06.94zm10 10l.94 2.06.94-2.06 2.06-.94-2.06-.94-.94-2.06-.94 2.06-2.06.94z\"/><path d=\"M17.41 7.96l-1.37-1.37c-.4-.4-.92-.59-1.43-.59-.52 0-1.04.2-1.43.59L10.3 9.45l-7.72 7.72c-.78.78-.78 2.05 0 2.83L4 21.41c.39.39.9.59 1.41.59.51 0 1.02-.2 1.41-.59l7.78-7.78 2.81-2.81c.8-.78.8-2.07 0-2.86zM5.41 20L4 18.59l7.72-7.72 1.47 1.35L5.41 20z\"/>\n",
              "  </svg>\n",
              "      </button>\n",
              "      \n",
              "  <style>\n",
              "    .colab-df-container {\n",
              "      display:flex;\n",
              "      flex-wrap:wrap;\n",
              "      gap: 12px;\n",
              "    }\n",
              "\n",
              "    .colab-df-convert {\n",
              "      background-color: #E8F0FE;\n",
              "      border: none;\n",
              "      border-radius: 50%;\n",
              "      cursor: pointer;\n",
              "      display: none;\n",
              "      fill: #1967D2;\n",
              "      height: 32px;\n",
              "      padding: 0 0 0 0;\n",
              "      width: 32px;\n",
              "    }\n",
              "\n",
              "    .colab-df-convert:hover {\n",
              "      background-color: #E2EBFA;\n",
              "      box-shadow: 0px 1px 2px rgba(60, 64, 67, 0.3), 0px 1px 3px 1px rgba(60, 64, 67, 0.15);\n",
              "      fill: #174EA6;\n",
              "    }\n",
              "\n",
              "    [theme=dark] .colab-df-convert {\n",
              "      background-color: #3B4455;\n",
              "      fill: #D2E3FC;\n",
              "    }\n",
              "\n",
              "    [theme=dark] .colab-df-convert:hover {\n",
              "      background-color: #434B5C;\n",
              "      box-shadow: 0px 1px 3px 1px rgba(0, 0, 0, 0.15);\n",
              "      filter: drop-shadow(0px 1px 2px rgba(0, 0, 0, 0.3));\n",
              "      fill: #FFFFFF;\n",
              "    }\n",
              "  </style>\n",
              "\n",
              "      <script>\n",
              "        const buttonEl =\n",
              "          document.querySelector('#df-e87c70ee-3f2b-478b-9ad2-3b319f76b2da button.colab-df-convert');\n",
              "        buttonEl.style.display =\n",
              "          google.colab.kernel.accessAllowed ? 'block' : 'none';\n",
              "\n",
              "        async function convertToInteractive(key) {\n",
              "          const element = document.querySelector('#df-e87c70ee-3f2b-478b-9ad2-3b319f76b2da');\n",
              "          const dataTable =\n",
              "            await google.colab.kernel.invokeFunction('convertToInteractive',\n",
              "                                                     [key], {});\n",
              "          if (!dataTable) return;\n",
              "\n",
              "          const docLinkHtml = 'Like what you see? Visit the ' +\n",
              "            '<a target=\"_blank\" href=https://colab.research.google.com/notebooks/data_table.ipynb>data table notebook</a>'\n",
              "            + ' to learn more about interactive tables.';\n",
              "          element.innerHTML = '';\n",
              "          dataTable['output_type'] = 'display_data';\n",
              "          await google.colab.output.renderOutput(dataTable, element);\n",
              "          const docLink = document.createElement('div');\n",
              "          docLink.innerHTML = docLinkHtml;\n",
              "          element.appendChild(docLink);\n",
              "        }\n",
              "      </script>\n",
              "    </div>\n",
              "  </div>\n",
              "  "
            ]
          },
          "metadata": {},
          "execution_count": 45
        }
      ]
    },
    {
      "cell_type": "code",
      "metadata": {
        "colab": {
          "base_uri": "https://localhost:8080/",
          "height": 285
        },
        "id": "cFCNSZ3IoEtw",
        "outputId": "ad08dbb7-2423-445f-8108-d448f753ab1e"
      },
      "source": [
        "import seaborn as sns\n",
        "sns.set(style=\"whitegrid\")\n",
        "ax = sns.barplot(y=\"name\", x=\"score\", data=result_rdos)"
      ],
      "execution_count": 46,
      "outputs": [
        {
          "output_type": "display_data",
          "data": {
            "text/plain": [
              "<Figure size 432x288 with 1 Axes>"
            ],
            "image/png": "[encoded data removed]"
          },
          "metadata": {}
        }
      ]
    },
    {
      "cell_type": "code",
      "metadata": {
        "id": "vmwsa8X8oEp8"
      },
      "source": [
        " from imblearn.over_sampling import SVMSMOTE\n",
        " svm_smote = SVMSMOTE( sampling_strategy='auto', random_state=None, k_neighbors=5, n_jobs=None, m_neighbors=10, svm_estimator=None, out_step=0.5)\n",
        "X_train_svm_smote, y_train_svm_smote = svm_smote.fit_resample(X_train.astype('float'),y_train)\n"
      ],
      "execution_count": 47,
      "outputs": []
    },
    {
      "cell_type": "code",
      "metadata": {
        "colab": {
          "base_uri": "https://localhost:8080/"
        },
        "id": "x2YOH0pwwGfr",
        "outputId": "33ee47c9-4cf3-4b68-8445-e5224228aec6"
      },
      "source": [
        "from collections import Counter\n",
        "print(\"Before svm_smote :\" , Counter(y_train))\n",
        "print(\"After svm_smote :\" , Counter(y_train_svm_smote))"
      ],
      "execution_count": 48,
      "outputs": [
        {
          "output_type": "stream",
          "name": "stdout",
          "text": [
            "Before svm_smote : Counter({False: 359, True: 39})\n",
            "After svm_smote : Counter({False: 359, True: 202})\n"
          ]
        }
      ]
    },
    {
      "cell_type": "code",
      "metadata": {
        "id": "6sIxu3OLwGaT"
      },
      "source": [
        "from sklearn.model_selection import cross_val_score\n",
        "scores_svm_smote = []\n",
        "for name, clf in zip(names, classifiers):\n",
        "    clf.fit(X_train_svm_smote, y_train_svm_smote)\n",
        "    \n",
        "    cross_val_score(estimator=clf,X=X_train_svm_smote,y=y_train_svm_smote,cv=10)\n",
        "    score = clf.score(X_test, y_test)\n",
        "    scores_svm_smote.append(score)"
      ],
      "execution_count": 49,
      "outputs": []
    },
    {
      "cell_type": "code",
      "metadata": {
        "colab": {
          "base_uri": "https://localhost:8080/"
        },
        "id": "wQvE7HUpwGXQ",
        "outputId": "92c6049f-a911-4e88-cd72-df5173b9c354"
      },
      "source": [
        "scores_svm_smote"
      ],
      "execution_count": 50,
      "outputs": [
        {
          "output_type": "execute_result",
          "data": {
            "text/plain": [
              "[0.85, 0.79, 0.89, 0.87, 0.8]"
            ]
          },
          "metadata": {},
          "execution_count": 50
        }
      ]
    },
    {
      "cell_type": "code",
      "metadata": {
        "colab": {
          "base_uri": "https://localhost:8080/",
          "height": 206
        },
        "id": "JnTvwCKDwGRk",
        "outputId": "e4966df7-4b78-404b-ebba-f9e2a272e345"
      },
      "source": [
        "result_svm_smote = pd.DataFrame()\n",
        "result_svm_smote['name'] = names\n",
        "result_svm_smote['score'] = scores_svm_smote\n",
        "result_svm_smote"
      ],
      "execution_count": 51,
      "outputs": [
        {
          "output_type": "execute_result",
          "data": {
            "text/plain": [
              "            name  score\n",
              "0    Naive_Bayes   0.85\n",
              "1            J48   0.79\n",
              "2  Random_Forest   0.89\n",
              "3       Adaboost   0.87\n",
              "4        Bagging   0.80"
            ],
            "text/html": [
              "\n",
              "  <div id=\"df-328a973e-2613-49f7-a823-ed01a29b370c\">\n",
              "    <div class=\"colab-df-container\">\n",
              "      <div>\n",
              "<style scoped>\n",
              "    .dataframe tbody tr th:only-of-type {\n",
              "        vertical-align: middle;\n",
              "    }\n",
              "\n",
              "    .dataframe tbody tr th {\n",
              "        vertical-align: top;\n",
              "    }\n",
              "\n",
              "    .dataframe thead th {\n",
              "        text-align: right;\n",
              "    }\n",
              "</style>\n",
              "<table border=\"1\" class=\"dataframe\">\n",
              "  <thead>\n",
              "    <tr style=\"text-align: right;\">\n",
              "      <th></th>\n",
              "      <th>name</th>\n",
              "      <th>score</th>\n",
              "    </tr>\n",
              "  </thead>\n",
              "  <tbody>\n",
              "    <tr>\n",
              "      <th>0</th>\n",
              "      <td>Naive_Bayes</td>\n",
              "      <td>0.85</td>\n",
              "    </tr>\n",
              "    <tr>\n",
              "      <th>1</th>\n",
              "      <td>J48</td>\n",
              "      <td>0.79</td>\n",
              "    </tr>\n",
              "    <tr>\n",
              "      <th>2</th>\n",
              "      <td>Random_Forest</td>\n",
              "      <td>0.89</td>\n",
              "    </tr>\n",
              "    <tr>\n",
              "      <th>3</th>\n",
              "      <td>Adaboost</td>\n",
              "      <td>0.87</td>\n",
              "    </tr>\n",
              "    <tr>\n",
              "      <th>4</th>\n",
              "      <td>Bagging</td>\n",
              "      <td>0.80</td>\n",
              "    </tr>\n",
              "  </tbody>\n",
              "</table>\n",
              "</div>\n",
              "      <button class=\"colab-df-convert\" onclick=\"convertToInteractive('df-328a973e-2613-49f7-a823-ed01a29b370c')\"\n",
              "              title=\"Convert this dataframe to an interactive table.\"\n",
              "              style=\"display:none;\">\n",
              "        \n",
              "  <svg xmlns=\"http://www.w3.org/2000/svg\" height=\"24px\"viewBox=\"0 0 24 24\"\n",
              "       width=\"24px\">\n",
              "    <path d=\"M0 0h24v24H0V0z\" fill=\"none\"/>\n",
              "    <path d=\"M18.56 5.44l.94 2.06.94-2.06 2.06-.94-2.06-.94-.94-2.06-.94 2.06-2.06.94zm-11 1L8.5 8.5l.94-2.06 2.06-.94-2.06-.94L8.5 2.5l-.94 2.06-2.06.94zm10 10l.94 2.06.94-2.06 2.06-.94-2.06-.94-.94-2.06-.94 2.06-2.06.94z\"/><path d=\"M17.41 7.96l-1.37-1.37c-.4-.4-.92-.59-1.43-.59-.52 0-1.04.2-1.43.59L10.3 9.45l-7.72 7.72c-.78.78-.78 2.05 0 2.83L4 21.41c.39.39.9.59 1.41.59.51 0 1.02-.2 1.41-.59l7.78-7.78 2.81-2.81c.8-.78.8-2.07 0-2.86zM5.41 20L4 18.59l7.72-7.72 1.47 1.35L5.41 20z\"/>\n",
              "  </svg>\n",
              "      </button>\n",
              "      \n",
              "  <style>\n",
              "    .colab-df-container {\n",
              "      display:flex;\n",
              "      flex-wrap:wrap;\n",
              "      gap: 12px;\n",
              "    }\n",
              "\n",
              "    .colab-df-convert {\n",
              "      background-color: #E8F0FE;\n",
              "      border: none;\n",
              "      border-radius: 50%;\n",
              "      cursor: pointer;\n",
              "      display: none;\n",
              "      fill: #1967D2;\n",
              "      height: 32px;\n",
              "      padding: 0 0 0 0;\n",
              "      width: 32px;\n",
              "    }\n",
              "\n",
              "    .colab-df-convert:hover {\n",
              "      background-color: #E2EBFA;\n",
              "      box-shadow: 0px 1px 2px rgba(60, 64, 67, 0.3), 0px 1px 3px 1px rgba(60, 64, 67, 0.15);\n",
              "      fill: #174EA6;\n",
              "    }\n",
              "\n",
              "    [theme=dark] .colab-df-convert {\n",
              "      background-color: #3B4455;\n",
              "      fill: #D2E3FC;\n",
              "    }\n",
              "\n",
              "    [theme=dark] .colab-df-convert:hover {\n",
              "      background-color: #434B5C;\n",
              "      box-shadow: 0px 1px 3px 1px rgba(0, 0, 0, 0.15);\n",
              "      filter: drop-shadow(0px 1px 2px rgba(0, 0, 0, 0.3));\n",
              "      fill: #FFFFFF;\n",
              "    }\n",
              "  </style>\n",
              "\n",
              "      <script>\n",
              "        const buttonEl =\n",
              "          document.querySelector('#df-328a973e-2613-49f7-a823-ed01a29b370c button.colab-df-convert');\n",
              "        buttonEl.style.display =\n",
              "          google.colab.kernel.accessAllowed ? 'block' : 'none';\n",
              "\n",
              "        async function convertToInteractive(key) {\n",
              "          const element = document.querySelector('#df-328a973e-2613-49f7-a823-ed01a29b370c');\n",
              "          const dataTable =\n",
              "            await google.colab.kernel.invokeFunction('convertToInteractive',\n",
              "                                                     [key], {});\n",
              "          if (!dataTable) return;\n",
              "\n",
              "          const docLinkHtml = 'Like what you see? Visit the ' +\n",
              "            '<a target=\"_blank\" href=https://colab.research.google.com/notebooks/data_table.ipynb>data table notebook</a>'\n",
              "            + ' to learn more about interactive tables.';\n",
              "          element.innerHTML = '';\n",
              "          dataTable['output_type'] = 'display_data';\n",
              "          await google.colab.output.renderOutput(dataTable, element);\n",
              "          const docLink = document.createElement('div');\n",
              "          docLink.innerHTML = docLinkHtml;\n",
              "          element.appendChild(docLink);\n",
              "        }\n",
              "      </script>\n",
              "    </div>\n",
              "  </div>\n",
              "  "
            ]
          },
          "metadata": {},
          "execution_count": 51
        }
      ]
    },
    {
      "cell_type": "code",
      "metadata": {
        "colab": {
          "base_uri": "https://localhost:8080/",
          "height": 285
        },
        "id": "IYJjf4bMwGMe",
        "outputId": "c53f2063-beaf-49ba-b91f-0ffc1941e3d2"
      },
      "source": [
        "import seaborn as sns\n",
        "sns.set(style=\"whitegrid\")\n",
        "ax = sns.barplot(y=\"name\", x=\"score\", data=result_svm_smote)"
      ],
      "execution_count": 52,
      "outputs": [
        {
          "output_type": "display_data",
          "data": {
            "text/plain": [
              "<Figure size 432x288 with 1 Axes>"
            ],
            "image/png": "[encoded data removed]"
          },
          "metadata": {}
        }
      ]
    }
  ]
}